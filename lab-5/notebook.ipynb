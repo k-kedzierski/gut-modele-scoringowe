{
 "cells": [
  {
   "cell_type": "code",
   "execution_count": 1,
   "id": "ecc5bac6",
   "metadata": {},
   "outputs": [],
   "source": [
    "import pandas as pd"
   ]
  },
  {
   "cell_type": "code",
   "execution_count": 2,
   "id": "b5ab995b",
   "metadata": {},
   "outputs": [],
   "source": [
    "application_df: pd.DataFrame = pd.read_csv(\"./data/application_rec.csv\")\n",
    "credit_df: pd.DataFrame = pd.read_csv(\"./data/credit_rec.csv\")"
   ]
  },
  {
   "cell_type": "code",
   "execution_count": 6,
   "id": "d2938b0e",
   "metadata": {},
   "outputs": [
    {
     "data": {
      "application/vnd.microsoft.datawrangler.viewer.v0+json": {
       "columns": [
        {
         "name": "index",
         "rawType": "int64",
         "type": "integer"
        },
        {
         "name": "Unnamed: 0",
         "rawType": "int64",
         "type": "integer"
        },
        {
         "name": "ID",
         "rawType": "int64",
         "type": "integer"
        },
        {
         "name": "CODE_GENDER",
         "rawType": "object",
         "type": "string"
        },
        {
         "name": "FLAG_OWN_CAR",
         "rawType": "object",
         "type": "string"
        },
        {
         "name": "FLAG_OWN_REALTY",
         "rawType": "object",
         "type": "string"
        },
        {
         "name": "CNT_CHILDREN",
         "rawType": "int64",
         "type": "integer"
        },
        {
         "name": "AMT_INCOME_TOTAL",
         "rawType": "float64",
         "type": "float"
        },
        {
         "name": "NAME_INCOME_TYPE",
         "rawType": "object",
         "type": "string"
        },
        {
         "name": "NAME_EDUCATION_TYPE",
         "rawType": "object",
         "type": "string"
        },
        {
         "name": "NAME_FAMILY_STATUS",
         "rawType": "object",
         "type": "string"
        },
        {
         "name": "NAME_HOUSING_TYPE",
         "rawType": "object",
         "type": "string"
        },
        {
         "name": "DAYS_BIRTH",
         "rawType": "int64",
         "type": "integer"
        },
        {
         "name": "DAYS_EMPLOYED",
         "rawType": "int64",
         "type": "integer"
        },
        {
         "name": "FLAG_MOBIL",
         "rawType": "int64",
         "type": "integer"
        },
        {
         "name": "FLAG_WORK_PHONE",
         "rawType": "int64",
         "type": "integer"
        },
        {
         "name": "FLAG_PHONE",
         "rawType": "int64",
         "type": "integer"
        },
        {
         "name": "FLAG_EMAIL",
         "rawType": "int64",
         "type": "integer"
        },
        {
         "name": "OCCUPATION_TYPE",
         "rawType": "object",
         "type": "unknown"
        },
        {
         "name": "CNT_FAM_MEMBERS",
         "rawType": "int64",
         "type": "integer"
        }
       ],
       "conversionMethod": "pd.DataFrame",
       "ref": "5d7bdef0-92eb-4322-afc3-f31b163e2152",
       "rows": [
        [
         "0",
         "1",
         "5008804",
         "M",
         "Y",
         "Y",
         "0",
         "427500.0",
         "Working",
         "Higher education",
         "Civil marriage",
         "Rented apartment",
         "-12005",
         "-4542",
         "1",
         "1",
         "0",
         "0",
         null,
         "2"
        ],
        [
         "1",
         "2",
         "5008805",
         "M",
         "Y",
         "Y",
         "0",
         "427500.0",
         "Working",
         "Higher education",
         "Civil marriage",
         "Rented apartment",
         "-12005",
         "-4542",
         "1",
         "1",
         "0",
         "0",
         null,
         "2"
        ],
        [
         "2",
         "3",
         "5008806",
         "M",
         "Y",
         "Y",
         "0",
         "112500.0",
         "Working",
         "Secondary / secondary special",
         "Married",
         "House / apartment",
         "-21474",
         "-1134",
         "1",
         "0",
         "0",
         "0",
         "Security staff",
         "2"
        ],
        [
         "3",
         "4",
         "5008808",
         "F",
         "N",
         "Y",
         "0",
         "270000.0",
         "Commercial associate",
         "Secondary / secondary special",
         "Single / not married",
         "House / apartment",
         "-19110",
         "-3051",
         "1",
         "0",
         "1",
         "1",
         "Sales staff",
         "1"
        ],
        [
         "4",
         "5",
         "5008809",
         "F",
         "N",
         "Y",
         "0",
         "270000.0",
         "Commercial associate",
         "Secondary / secondary special",
         "Single / not married",
         "House / apartment",
         "-19110",
         "-3051",
         "1",
         "0",
         "1",
         "1",
         "Sales staff",
         "1"
        ]
       ],
       "shape": {
        "columns": 19,
        "rows": 5
       }
      },
      "text/html": [
       "<div>\n",
       "<style scoped>\n",
       "    .dataframe tbody tr th:only-of-type {\n",
       "        vertical-align: middle;\n",
       "    }\n",
       "\n",
       "    .dataframe tbody tr th {\n",
       "        vertical-align: top;\n",
       "    }\n",
       "\n",
       "    .dataframe thead th {\n",
       "        text-align: right;\n",
       "    }\n",
       "</style>\n",
       "<table border=\"1\" class=\"dataframe\">\n",
       "  <thead>\n",
       "    <tr style=\"text-align: right;\">\n",
       "      <th></th>\n",
       "      <th>Unnamed: 0</th>\n",
       "      <th>ID</th>\n",
       "      <th>CODE_GENDER</th>\n",
       "      <th>FLAG_OWN_CAR</th>\n",
       "      <th>FLAG_OWN_REALTY</th>\n",
       "      <th>CNT_CHILDREN</th>\n",
       "      <th>AMT_INCOME_TOTAL</th>\n",
       "      <th>NAME_INCOME_TYPE</th>\n",
       "      <th>NAME_EDUCATION_TYPE</th>\n",
       "      <th>NAME_FAMILY_STATUS</th>\n",
       "      <th>NAME_HOUSING_TYPE</th>\n",
       "      <th>DAYS_BIRTH</th>\n",
       "      <th>DAYS_EMPLOYED</th>\n",
       "      <th>FLAG_MOBIL</th>\n",
       "      <th>FLAG_WORK_PHONE</th>\n",
       "      <th>FLAG_PHONE</th>\n",
       "      <th>FLAG_EMAIL</th>\n",
       "      <th>OCCUPATION_TYPE</th>\n",
       "      <th>CNT_FAM_MEMBERS</th>\n",
       "    </tr>\n",
       "  </thead>\n",
       "  <tbody>\n",
       "    <tr>\n",
       "      <th>0</th>\n",
       "      <td>1</td>\n",
       "      <td>5008804</td>\n",
       "      <td>M</td>\n",
       "      <td>Y</td>\n",
       "      <td>Y</td>\n",
       "      <td>0</td>\n",
       "      <td>427500.0</td>\n",
       "      <td>Working</td>\n",
       "      <td>Higher education</td>\n",
       "      <td>Civil marriage</td>\n",
       "      <td>Rented apartment</td>\n",
       "      <td>-12005</td>\n",
       "      <td>-4542</td>\n",
       "      <td>1</td>\n",
       "      <td>1</td>\n",
       "      <td>0</td>\n",
       "      <td>0</td>\n",
       "      <td>NaN</td>\n",
       "      <td>2</td>\n",
       "    </tr>\n",
       "    <tr>\n",
       "      <th>1</th>\n",
       "      <td>2</td>\n",
       "      <td>5008805</td>\n",
       "      <td>M</td>\n",
       "      <td>Y</td>\n",
       "      <td>Y</td>\n",
       "      <td>0</td>\n",
       "      <td>427500.0</td>\n",
       "      <td>Working</td>\n",
       "      <td>Higher education</td>\n",
       "      <td>Civil marriage</td>\n",
       "      <td>Rented apartment</td>\n",
       "      <td>-12005</td>\n",
       "      <td>-4542</td>\n",
       "      <td>1</td>\n",
       "      <td>1</td>\n",
       "      <td>0</td>\n",
       "      <td>0</td>\n",
       "      <td>NaN</td>\n",
       "      <td>2</td>\n",
       "    </tr>\n",
       "    <tr>\n",
       "      <th>2</th>\n",
       "      <td>3</td>\n",
       "      <td>5008806</td>\n",
       "      <td>M</td>\n",
       "      <td>Y</td>\n",
       "      <td>Y</td>\n",
       "      <td>0</td>\n",
       "      <td>112500.0</td>\n",
       "      <td>Working</td>\n",
       "      <td>Secondary / secondary special</td>\n",
       "      <td>Married</td>\n",
       "      <td>House / apartment</td>\n",
       "      <td>-21474</td>\n",
       "      <td>-1134</td>\n",
       "      <td>1</td>\n",
       "      <td>0</td>\n",
       "      <td>0</td>\n",
       "      <td>0</td>\n",
       "      <td>Security staff</td>\n",
       "      <td>2</td>\n",
       "    </tr>\n",
       "    <tr>\n",
       "      <th>3</th>\n",
       "      <td>4</td>\n",
       "      <td>5008808</td>\n",
       "      <td>F</td>\n",
       "      <td>N</td>\n",
       "      <td>Y</td>\n",
       "      <td>0</td>\n",
       "      <td>270000.0</td>\n",
       "      <td>Commercial associate</td>\n",
       "      <td>Secondary / secondary special</td>\n",
       "      <td>Single / not married</td>\n",
       "      <td>House / apartment</td>\n",
       "      <td>-19110</td>\n",
       "      <td>-3051</td>\n",
       "      <td>1</td>\n",
       "      <td>0</td>\n",
       "      <td>1</td>\n",
       "      <td>1</td>\n",
       "      <td>Sales staff</td>\n",
       "      <td>1</td>\n",
       "    </tr>\n",
       "    <tr>\n",
       "      <th>4</th>\n",
       "      <td>5</td>\n",
       "      <td>5008809</td>\n",
       "      <td>F</td>\n",
       "      <td>N</td>\n",
       "      <td>Y</td>\n",
       "      <td>0</td>\n",
       "      <td>270000.0</td>\n",
       "      <td>Commercial associate</td>\n",
       "      <td>Secondary / secondary special</td>\n",
       "      <td>Single / not married</td>\n",
       "      <td>House / apartment</td>\n",
       "      <td>-19110</td>\n",
       "      <td>-3051</td>\n",
       "      <td>1</td>\n",
       "      <td>0</td>\n",
       "      <td>1</td>\n",
       "      <td>1</td>\n",
       "      <td>Sales staff</td>\n",
       "      <td>1</td>\n",
       "    </tr>\n",
       "  </tbody>\n",
       "</table>\n",
       "</div>"
      ],
      "text/plain": [
       "   Unnamed: 0       ID CODE_GENDER FLAG_OWN_CAR FLAG_OWN_REALTY  CNT_CHILDREN  \\\n",
       "0           1  5008804           M            Y               Y             0   \n",
       "1           2  5008805           M            Y               Y             0   \n",
       "2           3  5008806           M            Y               Y             0   \n",
       "3           4  5008808           F            N               Y             0   \n",
       "4           5  5008809           F            N               Y             0   \n",
       "\n",
       "   AMT_INCOME_TOTAL      NAME_INCOME_TYPE            NAME_EDUCATION_TYPE  \\\n",
       "0          427500.0               Working               Higher education   \n",
       "1          427500.0               Working               Higher education   \n",
       "2          112500.0               Working  Secondary / secondary special   \n",
       "3          270000.0  Commercial associate  Secondary / secondary special   \n",
       "4          270000.0  Commercial associate  Secondary / secondary special   \n",
       "\n",
       "     NAME_FAMILY_STATUS  NAME_HOUSING_TYPE  DAYS_BIRTH  DAYS_EMPLOYED  \\\n",
       "0        Civil marriage   Rented apartment      -12005          -4542   \n",
       "1        Civil marriage   Rented apartment      -12005          -4542   \n",
       "2               Married  House / apartment      -21474          -1134   \n",
       "3  Single / not married  House / apartment      -19110          -3051   \n",
       "4  Single / not married  House / apartment      -19110          -3051   \n",
       "\n",
       "   FLAG_MOBIL  FLAG_WORK_PHONE  FLAG_PHONE  FLAG_EMAIL OCCUPATION_TYPE  \\\n",
       "0           1                1           0           0             NaN   \n",
       "1           1                1           0           0             NaN   \n",
       "2           1                0           0           0  Security staff   \n",
       "3           1                0           1           1     Sales staff   \n",
       "4           1                0           1           1     Sales staff   \n",
       "\n",
       "   CNT_FAM_MEMBERS  \n",
       "0                2  \n",
       "1                2  \n",
       "2                2  \n",
       "3                1  \n",
       "4                1  "
      ]
     },
     "execution_count": 6,
     "metadata": {},
     "output_type": "execute_result"
    }
   ],
   "source": [
    "application_df.head()"
   ]
  },
  {
   "cell_type": "markdown",
   "id": "686abf0e",
   "metadata": {},
   "source": [
    "- `ID`: Identyfikator klienta\n",
    "- `STATUS`: Status\n",
    "- `START_DATE`: Data uruchomienia karty kredytowej\n",
    "- `SNAPSHOT_MONTH`: Miesiąc snapshotu"
   ]
  },
  {
   "cell_type": "code",
   "execution_count": 4,
   "id": "e65eea7a",
   "metadata": {},
   "outputs": [
    {
     "data": {
      "application/vnd.microsoft.datawrangler.viewer.v0+json": {
       "columns": [
        {
         "name": "index",
         "rawType": "int64",
         "type": "integer"
        },
        {
         "name": "Unnamed: 0",
         "rawType": "int64",
         "type": "integer"
        },
        {
         "name": "X",
         "rawType": "int64",
         "type": "integer"
        },
        {
         "name": "ID",
         "rawType": "int64",
         "type": "integer"
        },
        {
         "name": "STATUS",
         "rawType": "object",
         "type": "string"
        },
        {
         "name": "START_DATE",
         "rawType": "object",
         "type": "string"
        },
        {
         "name": "SNAPSHOT_MONTH",
         "rawType": "object",
         "type": "string"
        }
       ],
       "conversionMethod": "pd.DataFrame",
       "ref": "58050cee-8259-45ac-aa06-35df4ed87cda",
       "rows": [
        [
         "0",
         "92833",
         "92953",
         "5008804",
         "X",
         "2021-09-01",
         "2021-09-01"
        ],
        [
         "1",
         "92834",
         "92952",
         "5008804",
         "0",
         "2021-09-01",
         "2021-10-01"
        ],
        [
         "2",
         "92835",
         "92951",
         "5008804",
         "1",
         "2021-09-01",
         "2021-11-01"
        ],
        [
         "3",
         "92836",
         "92950",
         "5008804",
         "C",
         "2021-09-01",
         "2021-12-01"
        ],
        [
         "4",
         "92837",
         "92949",
         "5008804",
         "C",
         "2021-09-01",
         "2022-01-01"
        ]
       ],
       "shape": {
        "columns": 6,
        "rows": 5
       }
      },
      "text/html": [
       "<div>\n",
       "<style scoped>\n",
       "    .dataframe tbody tr th:only-of-type {\n",
       "        vertical-align: middle;\n",
       "    }\n",
       "\n",
       "    .dataframe tbody tr th {\n",
       "        vertical-align: top;\n",
       "    }\n",
       "\n",
       "    .dataframe thead th {\n",
       "        text-align: right;\n",
       "    }\n",
       "</style>\n",
       "<table border=\"1\" class=\"dataframe\">\n",
       "  <thead>\n",
       "    <tr style=\"text-align: right;\">\n",
       "      <th></th>\n",
       "      <th>Unnamed: 0</th>\n",
       "      <th>X</th>\n",
       "      <th>ID</th>\n",
       "      <th>STATUS</th>\n",
       "      <th>START_DATE</th>\n",
       "      <th>SNAPSHOT_MONTH</th>\n",
       "    </tr>\n",
       "  </thead>\n",
       "  <tbody>\n",
       "    <tr>\n",
       "      <th>0</th>\n",
       "      <td>92833</td>\n",
       "      <td>92953</td>\n",
       "      <td>5008804</td>\n",
       "      <td>X</td>\n",
       "      <td>2021-09-01</td>\n",
       "      <td>2021-09-01</td>\n",
       "    </tr>\n",
       "    <tr>\n",
       "      <th>1</th>\n",
       "      <td>92834</td>\n",
       "      <td>92952</td>\n",
       "      <td>5008804</td>\n",
       "      <td>0</td>\n",
       "      <td>2021-09-01</td>\n",
       "      <td>2021-10-01</td>\n",
       "    </tr>\n",
       "    <tr>\n",
       "      <th>2</th>\n",
       "      <td>92835</td>\n",
       "      <td>92951</td>\n",
       "      <td>5008804</td>\n",
       "      <td>1</td>\n",
       "      <td>2021-09-01</td>\n",
       "      <td>2021-11-01</td>\n",
       "    </tr>\n",
       "    <tr>\n",
       "      <th>3</th>\n",
       "      <td>92836</td>\n",
       "      <td>92950</td>\n",
       "      <td>5008804</td>\n",
       "      <td>C</td>\n",
       "      <td>2021-09-01</td>\n",
       "      <td>2021-12-01</td>\n",
       "    </tr>\n",
       "    <tr>\n",
       "      <th>4</th>\n",
       "      <td>92837</td>\n",
       "      <td>92949</td>\n",
       "      <td>5008804</td>\n",
       "      <td>C</td>\n",
       "      <td>2021-09-01</td>\n",
       "      <td>2022-01-01</td>\n",
       "    </tr>\n",
       "  </tbody>\n",
       "</table>\n",
       "</div>"
      ],
      "text/plain": [
       "   Unnamed: 0      X       ID STATUS  START_DATE SNAPSHOT_MONTH\n",
       "0       92833  92953  5008804      X  2021-09-01     2021-09-01\n",
       "1       92834  92952  5008804      0  2021-09-01     2021-10-01\n",
       "2       92835  92951  5008804      1  2021-09-01     2021-11-01\n",
       "3       92836  92950  5008804      C  2021-09-01     2021-12-01\n",
       "4       92837  92949  5008804      C  2021-09-01     2022-01-01"
      ]
     },
     "execution_count": 4,
     "metadata": {},
     "output_type": "execute_result"
    }
   ],
   "source": [
    "credit_df.head()"
   ]
  },
  {
   "cell_type": "markdown",
   "id": "3e3f6f17",
   "metadata": {},
   "source": [
    "Kolumna `STATUS`:\n",
    "- 0: brak opoźnienia lub opóźnienie <30 dni\n",
    "- 1: opóźnienie w spłacie 30-59 dni\n",
    "- 2: opóźnienie w spłacie 60-89 dni\n",
    "- 3: opóźnienie w spłacie 90-119 dni\n",
    "- 4: opóźnienie w spłacie 120-149 dni\n",
    "- 5: opóźnienie w spłacie 150+ dni\n",
    "- C: karta zamknięta\n",
    "- X: brak zadużenia w danym miesiącu"
   ]
  },
  {
   "cell_type": "code",
   "execution_count": null,
   "id": "d2dc7828",
   "metadata": {},
   "outputs": [
    {
     "data": {
      "text/plain": [
       "STATUS\n",
       "C    329461\n",
       "0    290578\n",
       "X    145947\n",
       "1      8734\n",
       "5      1526\n",
       "2       801\n",
       "3       286\n",
       "4       214\n",
       "Name: count, dtype: int64"
      ]
     },
     "execution_count": 11,
     "metadata": {},
     "output_type": "execute_result"
    }
   ],
   "source": [
    "credit_df[\"STATUS\"].value_counts()"
   ]
  },
  {
   "cell_type": "code",
   "execution_count": 8,
   "id": "1fa1bafb",
   "metadata": {},
   "outputs": [
    {
     "name": "stdout",
     "output_type": "stream",
     "text": [
      "<class 'pandas.core.frame.DataFrame'>\n",
      "RangeIndex: 36448 entries, 0 to 36447\n",
      "Data columns (total 19 columns):\n",
      " #   Column               Non-Null Count  Dtype  \n",
      "---  ------               --------------  -----  \n",
      " 0   Unnamed: 0           36448 non-null  int64  \n",
      " 1   ID                   36448 non-null  int64  \n",
      " 2   CODE_GENDER          36448 non-null  object \n",
      " 3   FLAG_OWN_CAR         36448 non-null  object \n",
      " 4   FLAG_OWN_REALTY      36448 non-null  object \n",
      " 5   CNT_CHILDREN         36448 non-null  int64  \n",
      " 6   AMT_INCOME_TOTAL     36448 non-null  float64\n",
      " 7   NAME_INCOME_TYPE     36448 non-null  object \n",
      " 8   NAME_EDUCATION_TYPE  36448 non-null  object \n",
      " 9   NAME_FAMILY_STATUS   36448 non-null  object \n",
      " 10  NAME_HOUSING_TYPE    36448 non-null  object \n",
      " 11  DAYS_BIRTH           36448 non-null  int64  \n",
      " 12  DAYS_EMPLOYED        36448 non-null  int64  \n",
      " 13  FLAG_MOBIL           36448 non-null  int64  \n",
      " 14  FLAG_WORK_PHONE      36448 non-null  int64  \n",
      " 15  FLAG_PHONE           36448 non-null  int64  \n",
      " 16  FLAG_EMAIL           36448 non-null  int64  \n",
      " 17  OCCUPATION_TYPE      25127 non-null  object \n",
      " 18  CNT_FAM_MEMBERS      36448 non-null  int64  \n",
      "dtypes: float64(1), int64(10), object(8)\n",
      "memory usage: 5.3+ MB\n",
      "<class 'pandas.core.frame.DataFrame'>\n",
      "RangeIndex: 777547 entries, 0 to 777546\n",
      "Data columns (total 6 columns):\n",
      " #   Column          Non-Null Count   Dtype \n",
      "---  ------          --------------   ----- \n",
      " 0   Unnamed: 0      777547 non-null  int64 \n",
      " 1   X               777547 non-null  int64 \n",
      " 2   ID              777547 non-null  int64 \n",
      " 3   STATUS          777547 non-null  object\n",
      " 4   START_DATE      777547 non-null  object\n",
      " 5   SNAPSHOT_MONTH  777547 non-null  object\n",
      "dtypes: int64(3), object(3)\n",
      "memory usage: 35.6+ MB\n"
     ]
    },
    {
     "data": {
      "text/plain": [
       "(None, None)"
      ]
     },
     "execution_count": 8,
     "metadata": {},
     "output_type": "execute_result"
    }
   ],
   "source": [
    "application_df.info(), credit_df.info()"
   ]
  },
  {
   "cell_type": "markdown",
   "id": "eb249a9e",
   "metadata": {},
   "source": [
    "Definicja `BAD_1`: 90+ in 12 MoB\n",
    "\n",
    "Definicja `BAD_2`: 30+ in 5 MoB\n",
    "\n",
    "Definicja `BAD_3`: 60+ in 18 MoB"
   ]
  },
  {
   "cell_type": "code",
   "execution_count": null,
   "id": "2f7d60fe",
   "metadata": {},
   "outputs": [
    {
     "data": {
      "text/plain": [
       "28"
      ]
     },
     "execution_count": 32,
     "metadata": {},
     "output_type": "execute_result"
    }
   ],
   "source": [
    "credit_df[\n",
    "    (credit_df[\"SNAPSHOT_MONTH\"] <= \"2018-10-01\")\n",
    "    & (credit_df[\"START_DATE\"] == \"2018-05-01\")\n",
    "    & (~credit_df[\"STATUS\"].isin([\"0\", \"C\", \"X\"]))\n",
    "][\"ID\"].nunique()"
   ]
  },
  {
   "cell_type": "code",
   "execution_count": null,
   "id": "e09d3ffb",
   "metadata": {},
   "outputs": [
    {
     "data": {
      "application/vnd.microsoft.datawrangler.viewer.v0+json": {
       "columns": [
        {
         "name": "index",
         "rawType": "int64",
         "type": "integer"
        },
        {
         "name": "Unnamed: 0",
         "rawType": "int64",
         "type": "integer"
        },
        {
         "name": "X",
         "rawType": "int64",
         "type": "integer"
        },
        {
         "name": "ID",
         "rawType": "int64",
         "type": "integer"
        },
        {
         "name": "STATUS",
         "rawType": "object",
         "type": "string"
        },
        {
         "name": "START_DATE",
         "rawType": "datetime64[ns]",
         "type": "datetime"
        },
        {
         "name": "SNAPSHOT_MONTH",
         "rawType": "datetime64[ns]",
         "type": "datetime"
        },
        {
         "name": "MoB",
         "rawType": "int32",
         "type": "integer"
        }
       ],
       "conversionMethod": "pd.DataFrame",
       "ref": "77a59951-c8a3-4d8d-a8f8-bb73b253122c",
       "rows": [
        [
         "0",
         "92833",
         "92953",
         "5008804",
         "X",
         "2021-09-01 00:00:00",
         "2021-09-01 00:00:00",
         "0"
        ],
        [
         "1",
         "92834",
         "92952",
         "5008804",
         "0",
         "2021-09-01 00:00:00",
         "2021-10-01 00:00:00",
         "1"
        ],
        [
         "2",
         "92835",
         "92951",
         "5008804",
         "1",
         "2021-09-01 00:00:00",
         "2021-11-01 00:00:00",
         "2"
        ],
        [
         "3",
         "92836",
         "92950",
         "5008804",
         "C",
         "2021-09-01 00:00:00",
         "2021-12-01 00:00:00",
         "3"
        ],
        [
         "4",
         "92837",
         "92949",
         "5008804",
         "C",
         "2021-09-01 00:00:00",
         "2022-01-01 00:00:00",
         "4"
        ]
       ],
       "shape": {
        "columns": 7,
        "rows": 5
       }
      },
      "text/html": [
       "<div>\n",
       "<style scoped>\n",
       "    .dataframe tbody tr th:only-of-type {\n",
       "        vertical-align: middle;\n",
       "    }\n",
       "\n",
       "    .dataframe tbody tr th {\n",
       "        vertical-align: top;\n",
       "    }\n",
       "\n",
       "    .dataframe thead th {\n",
       "        text-align: right;\n",
       "    }\n",
       "</style>\n",
       "<table border=\"1\" class=\"dataframe\">\n",
       "  <thead>\n",
       "    <tr style=\"text-align: right;\">\n",
       "      <th></th>\n",
       "      <th>Unnamed: 0</th>\n",
       "      <th>X</th>\n",
       "      <th>ID</th>\n",
       "      <th>STATUS</th>\n",
       "      <th>START_DATE</th>\n",
       "      <th>SNAPSHOT_MONTH</th>\n",
       "      <th>MoB</th>\n",
       "    </tr>\n",
       "  </thead>\n",
       "  <tbody>\n",
       "    <tr>\n",
       "      <th>0</th>\n",
       "      <td>92833</td>\n",
       "      <td>92953</td>\n",
       "      <td>5008804</td>\n",
       "      <td>X</td>\n",
       "      <td>2021-09-01</td>\n",
       "      <td>2021-09-01</td>\n",
       "      <td>0</td>\n",
       "    </tr>\n",
       "    <tr>\n",
       "      <th>1</th>\n",
       "      <td>92834</td>\n",
       "      <td>92952</td>\n",
       "      <td>5008804</td>\n",
       "      <td>0</td>\n",
       "      <td>2021-09-01</td>\n",
       "      <td>2021-10-01</td>\n",
       "      <td>1</td>\n",
       "    </tr>\n",
       "    <tr>\n",
       "      <th>2</th>\n",
       "      <td>92835</td>\n",
       "      <td>92951</td>\n",
       "      <td>5008804</td>\n",
       "      <td>1</td>\n",
       "      <td>2021-09-01</td>\n",
       "      <td>2021-11-01</td>\n",
       "      <td>2</td>\n",
       "    </tr>\n",
       "    <tr>\n",
       "      <th>3</th>\n",
       "      <td>92836</td>\n",
       "      <td>92950</td>\n",
       "      <td>5008804</td>\n",
       "      <td>C</td>\n",
       "      <td>2021-09-01</td>\n",
       "      <td>2021-12-01</td>\n",
       "      <td>3</td>\n",
       "    </tr>\n",
       "    <tr>\n",
       "      <th>4</th>\n",
       "      <td>92837</td>\n",
       "      <td>92949</td>\n",
       "      <td>5008804</td>\n",
       "      <td>C</td>\n",
       "      <td>2021-09-01</td>\n",
       "      <td>2022-01-01</td>\n",
       "      <td>4</td>\n",
       "    </tr>\n",
       "  </tbody>\n",
       "</table>\n",
       "</div>"
      ],
      "text/plain": [
       "   Unnamed: 0      X       ID STATUS START_DATE SNAPSHOT_MONTH  MoB\n",
       "0       92833  92953  5008804      X 2021-09-01     2021-09-01    0\n",
       "1       92834  92952  5008804      0 2021-09-01     2021-10-01    1\n",
       "2       92835  92951  5008804      1 2021-09-01     2021-11-01    2\n",
       "3       92836  92950  5008804      C 2021-09-01     2021-12-01    3\n",
       "4       92837  92949  5008804      C 2021-09-01     2022-01-01    4"
      ]
     },
     "execution_count": 33,
     "metadata": {},
     "output_type": "execute_result"
    }
   ],
   "source": [
    "credit_df[\"START_DATE\"] = pd.to_datetime(credit_df[\"START_DATE\"])\n",
    "credit_df[\"SNAPSHOT_MONTH\"] = pd.to_datetime(credit_df[\"SNAPSHOT_MONTH\"])\n",
    "\n",
    "credit_df[\"MoB\"] = (\n",
    "    credit_df[\"SNAPSHOT_MONTH\"].dt.year - credit_df[\"START_DATE\"].dt.year\n",
    ") * 12 + (credit_df[\"SNAPSHOT_MONTH\"].dt.month - credit_df[\"START_DATE\"].dt.month)\n",
    "credit_df.head()"
   ]
  },
  {
   "cell_type": "code",
   "execution_count": null,
   "id": "feb08bb0",
   "metadata": {},
   "outputs": [
    {
     "name": "stdout",
     "output_type": "stream",
     "text": [
      "BAD_2 column value counts in credit_df (updated logic):\n",
      "BAD_2\n",
      "0    743982\n",
      "1     33565\n",
      "Name: count, dtype: int64\n",
      "\n",
      "credit_df head with BAD_2 column (updated logic):\n"
     ]
    },
    {
     "data": {
      "application/vnd.microsoft.datawrangler.viewer.v0+json": {
       "columns": [
        {
         "name": "index",
         "rawType": "int64",
         "type": "integer"
        },
        {
         "name": "Unnamed: 0",
         "rawType": "int64",
         "type": "integer"
        },
        {
         "name": "X",
         "rawType": "int64",
         "type": "integer"
        },
        {
         "name": "ID",
         "rawType": "int64",
         "type": "integer"
        },
        {
         "name": "STATUS",
         "rawType": "object",
         "type": "string"
        },
        {
         "name": "START_DATE",
         "rawType": "datetime64[ns]",
         "type": "datetime"
        },
        {
         "name": "SNAPSHOT_MONTH",
         "rawType": "datetime64[ns]",
         "type": "datetime"
        },
        {
         "name": "MoB",
         "rawType": "int32",
         "type": "integer"
        },
        {
         "name": "BAD_2",
         "rawType": "int64",
         "type": "integer"
        }
       ],
       "conversionMethod": "pd.DataFrame",
       "ref": "4677f25e-4aaf-43a1-b934-244c7a04f295",
       "rows": [
        [
         "0",
         "92833",
         "92953",
         "5008804",
         "X",
         "2021-09-01 00:00:00",
         "2021-09-01 00:00:00",
         "0",
         "0"
        ],
        [
         "1",
         "92834",
         "92952",
         "5008804",
         "0",
         "2021-09-01 00:00:00",
         "2021-10-01 00:00:00",
         "1",
         "0"
        ],
        [
         "2",
         "92835",
         "92951",
         "5008804",
         "1",
         "2021-09-01 00:00:00",
         "2021-11-01 00:00:00",
         "2",
         "0"
        ],
        [
         "3",
         "92836",
         "92950",
         "5008804",
         "C",
         "2021-09-01 00:00:00",
         "2021-12-01 00:00:00",
         "3",
         "0"
        ],
        [
         "4",
         "92837",
         "92949",
         "5008804",
         "C",
         "2021-09-01 00:00:00",
         "2022-01-01 00:00:00",
         "4",
         "0"
        ]
       ],
       "shape": {
        "columns": 8,
        "rows": 5
       }
      },
      "text/html": [
       "<div>\n",
       "<style scoped>\n",
       "    .dataframe tbody tr th:only-of-type {\n",
       "        vertical-align: middle;\n",
       "    }\n",
       "\n",
       "    .dataframe tbody tr th {\n",
       "        vertical-align: top;\n",
       "    }\n",
       "\n",
       "    .dataframe thead th {\n",
       "        text-align: right;\n",
       "    }\n",
       "</style>\n",
       "<table border=\"1\" class=\"dataframe\">\n",
       "  <thead>\n",
       "    <tr style=\"text-align: right;\">\n",
       "      <th></th>\n",
       "      <th>Unnamed: 0</th>\n",
       "      <th>X</th>\n",
       "      <th>ID</th>\n",
       "      <th>STATUS</th>\n",
       "      <th>START_DATE</th>\n",
       "      <th>SNAPSHOT_MONTH</th>\n",
       "      <th>MoB</th>\n",
       "      <th>BAD_2</th>\n",
       "    </tr>\n",
       "  </thead>\n",
       "  <tbody>\n",
       "    <tr>\n",
       "      <th>0</th>\n",
       "      <td>92833</td>\n",
       "      <td>92953</td>\n",
       "      <td>5008804</td>\n",
       "      <td>X</td>\n",
       "      <td>2021-09-01</td>\n",
       "      <td>2021-09-01</td>\n",
       "      <td>0</td>\n",
       "      <td>0</td>\n",
       "    </tr>\n",
       "    <tr>\n",
       "      <th>1</th>\n",
       "      <td>92834</td>\n",
       "      <td>92952</td>\n",
       "      <td>5008804</td>\n",
       "      <td>0</td>\n",
       "      <td>2021-09-01</td>\n",
       "      <td>2021-10-01</td>\n",
       "      <td>1</td>\n",
       "      <td>0</td>\n",
       "    </tr>\n",
       "    <tr>\n",
       "      <th>2</th>\n",
       "      <td>92835</td>\n",
       "      <td>92951</td>\n",
       "      <td>5008804</td>\n",
       "      <td>1</td>\n",
       "      <td>2021-09-01</td>\n",
       "      <td>2021-11-01</td>\n",
       "      <td>2</td>\n",
       "      <td>0</td>\n",
       "    </tr>\n",
       "    <tr>\n",
       "      <th>3</th>\n",
       "      <td>92836</td>\n",
       "      <td>92950</td>\n",
       "      <td>5008804</td>\n",
       "      <td>C</td>\n",
       "      <td>2021-09-01</td>\n",
       "      <td>2021-12-01</td>\n",
       "      <td>3</td>\n",
       "      <td>0</td>\n",
       "    </tr>\n",
       "    <tr>\n",
       "      <th>4</th>\n",
       "      <td>92837</td>\n",
       "      <td>92949</td>\n",
       "      <td>5008804</td>\n",
       "      <td>C</td>\n",
       "      <td>2021-09-01</td>\n",
       "      <td>2022-01-01</td>\n",
       "      <td>4</td>\n",
       "      <td>0</td>\n",
       "    </tr>\n",
       "  </tbody>\n",
       "</table>\n",
       "</div>"
      ],
      "text/plain": [
       "   Unnamed: 0      X       ID STATUS START_DATE SNAPSHOT_MONTH  MoB  BAD_2\n",
       "0       92833  92953  5008804      X 2021-09-01     2021-09-01    0      0\n",
       "1       92834  92952  5008804      0 2021-09-01     2021-10-01    1      0\n",
       "2       92835  92951  5008804      1 2021-09-01     2021-11-01    2      0\n",
       "3       92836  92950  5008804      C 2021-09-01     2021-12-01    3      0\n",
       "4       92837  92949  5008804      C 2021-09-01     2022-01-01    4      0"
      ]
     },
     "execution_count": 47,
     "metadata": {},
     "output_type": "execute_result"
    }
   ],
   "source": [
    "filtered_by_start_date_df = credit_df[credit_df[\"START_DATE\"] < \"2021-06-01\"].copy()\n",
    "\n",
    "# 2. From this filtered DataFrame, identify records that define a BAD_2 customer\n",
    "# Conditions: STATUS in [\"1\", \"2\", \"3\", \"4\", \"5\"] AND MoB < 5\n",
    "bad_defining_records_df = filtered_by_start_date_df[\n",
    "    (filtered_by_start_date_df[\"STATUS\"].isin([\"1\", \"2\", \"3\", \"4\", \"5\"]))\n",
    "    & (filtered_by_start_date_df[\"MoB\"] < 5)\n",
    "]\n",
    "\n",
    "# 3. Get the unique IDs of customers who met these criteria\n",
    "bad_2_customer_ids_updated = bad_defining_records_df[\"ID\"].unique()\n",
    "\n",
    "# 4. Create the 'BAD_2' column in the original credit_df\n",
    "# Initialize all to 0 (not BAD)\n",
    "credit_df[\"BAD_2\"] = 0\n",
    "\n",
    "# 5. Set 'BAD_2' to 1 for all records of customers who met the criteria\n",
    "credit_df.loc[credit_df[\"ID\"].isin(bad_2_customer_ids_updated), \"BAD_2\"] = 1\n",
    "\n",
    "# Display the distribution of the new BAD_2 column in credit_df\n",
    "print(\"BAD_2 column value counts in credit_df (updated logic):\")\n",
    "print(credit_df[\"BAD_2\"].value_counts())\n",
    "\n",
    "# Display the first few rows of credit_df with the new column\n",
    "print(\"\\ncredit_df head with BAD_2 column (updated logic):\")\n",
    "credit_df.head()"
   ]
  },
  {
   "cell_type": "code",
   "execution_count": null,
   "id": "9bdae736",
   "metadata": {},
   "outputs": [
    {
     "data": {
      "application/vnd.microsoft.datawrangler.viewer.v0+json": {
       "columns": [
        {
         "name": "index",
         "rawType": "int64",
         "type": "integer"
        },
        {
         "name": "START_DATE",
         "rawType": "datetime64[ns]",
         "type": "datetime"
        },
        {
         "name": "BAD_2",
         "rawType": "int64",
         "type": "integer"
        }
       ],
       "conversionMethod": "pd.DataFrame",
       "ref": "444388f9-98ed-493b-be69-0fcd57b469c8",
       "rows": [
        [
         "0",
         "2017-12-01 00:00:00",
         "559"
        ],
        [
         "1",
         "2018-01-01 00:00:00",
         "630"
        ],
        [
         "2",
         "2018-02-01 00:00:00",
         "436"
        ],
        [
         "3",
         "2018-03-01 00:00:00",
         "729"
        ],
        [
         "4",
         "2018-04-01 00:00:00",
         "868"
        ],
        [
         "5",
         "2018-05-01 00:00:00",
         "1003"
        ],
        [
         "6",
         "2018-06-01 00:00:00",
         "595"
        ],
        [
         "7",
         "2018-07-01 00:00:00",
         "795"
        ],
        [
         "8",
         "2018-08-01 00:00:00",
         "870"
        ],
        [
         "9",
         "2018-09-01 00:00:00",
         "1092"
        ],
        [
         "10",
         "2018-10-01 00:00:00",
         "796"
        ],
        [
         "11",
         "2018-11-01 00:00:00",
         "811"
        ],
        [
         "12",
         "2018-12-01 00:00:00",
         "1125"
        ],
        [
         "13",
         "2019-01-01 00:00:00",
         "896"
        ],
        [
         "14",
         "2019-02-01 00:00:00",
         "729"
        ],
        [
         "15",
         "2019-03-01 00:00:00",
         "755"
        ],
        [
         "16",
         "2019-04-01 00:00:00",
         "687"
        ],
        [
         "17",
         "2019-05-01 00:00:00",
         "1070"
        ],
        [
         "18",
         "2019-06-01 00:00:00",
         "1268"
        ],
        [
         "19",
         "2019-07-01 00:00:00",
         "940"
        ],
        [
         "20",
         "2019-08-01 00:00:00",
         "920"
        ],
        [
         "21",
         "2019-09-01 00:00:00",
         "1256"
        ],
        [
         "22",
         "2019-10-01 00:00:00",
         "615"
        ],
        [
         "23",
         "2019-11-01 00:00:00",
         "556"
        ],
        [
         "24",
         "2019-12-01 00:00:00",
         "1053"
        ],
        [
         "25",
         "2020-01-01 00:00:00",
         "803"
        ],
        [
         "26",
         "2020-02-01 00:00:00",
         "834"
        ],
        [
         "27",
         "2020-03-01 00:00:00",
         "606"
        ],
        [
         "28",
         "2020-04-01 00:00:00",
         "762"
        ],
        [
         "29",
         "2020-05-01 00:00:00",
         "995"
        ],
        [
         "30",
         "2020-06-01 00:00:00",
         "677"
        ],
        [
         "31",
         "2020-07-01 00:00:00",
         "816"
        ],
        [
         "32",
         "2020-08-01 00:00:00",
         "571"
        ],
        [
         "33",
         "2020-09-01 00:00:00",
         "987"
        ],
        [
         "34",
         "2020-10-01 00:00:00",
         "562"
        ],
        [
         "35",
         "2020-11-01 00:00:00",
         "929"
        ],
        [
         "36",
         "2020-12-01 00:00:00",
         "543"
        ],
        [
         "37",
         "2021-01-01 00:00:00",
         "777"
        ],
        [
         "38",
         "2021-02-01 00:00:00",
         "710"
        ],
        [
         "39",
         "2021-03-01 00:00:00",
         "643"
        ],
        [
         "40",
         "2021-04-01 00:00:00",
         "651"
        ],
        [
         "41",
         "2021-05-01 00:00:00",
         "645"
        ],
        [
         "42",
         "2021-06-01 00:00:00",
         "0"
        ],
        [
         "43",
         "2021-07-01 00:00:00",
         "0"
        ],
        [
         "44",
         "2021-08-01 00:00:00",
         "0"
        ],
        [
         "45",
         "2021-09-01 00:00:00",
         "0"
        ],
        [
         "46",
         "2021-10-01 00:00:00",
         "0"
        ],
        [
         "47",
         "2021-11-01 00:00:00",
         "0"
        ],
        [
         "48",
         "2021-12-01 00:00:00",
         "0"
        ],
        [
         "49",
         "2022-01-01 00:00:00",
         "0"
        ]
       ],
       "shape": {
        "columns": 2,
        "rows": 61
       }
      },
      "text/html": [
       "<div>\n",
       "<style scoped>\n",
       "    .dataframe tbody tr th:only-of-type {\n",
       "        vertical-align: middle;\n",
       "    }\n",
       "\n",
       "    .dataframe tbody tr th {\n",
       "        vertical-align: top;\n",
       "    }\n",
       "\n",
       "    .dataframe thead th {\n",
       "        text-align: right;\n",
       "    }\n",
       "</style>\n",
       "<table border=\"1\" class=\"dataframe\">\n",
       "  <thead>\n",
       "    <tr style=\"text-align: right;\">\n",
       "      <th></th>\n",
       "      <th>START_DATE</th>\n",
       "      <th>BAD_2</th>\n",
       "    </tr>\n",
       "  </thead>\n",
       "  <tbody>\n",
       "    <tr>\n",
       "      <th>0</th>\n",
       "      <td>2017-12-01</td>\n",
       "      <td>559</td>\n",
       "    </tr>\n",
       "    <tr>\n",
       "      <th>1</th>\n",
       "      <td>2018-01-01</td>\n",
       "      <td>630</td>\n",
       "    </tr>\n",
       "    <tr>\n",
       "      <th>2</th>\n",
       "      <td>2018-02-01</td>\n",
       "      <td>436</td>\n",
       "    </tr>\n",
       "    <tr>\n",
       "      <th>3</th>\n",
       "      <td>2018-03-01</td>\n",
       "      <td>729</td>\n",
       "    </tr>\n",
       "    <tr>\n",
       "      <th>4</th>\n",
       "      <td>2018-04-01</td>\n",
       "      <td>868</td>\n",
       "    </tr>\n",
       "    <tr>\n",
       "      <th>...</th>\n",
       "      <td>...</td>\n",
       "      <td>...</td>\n",
       "    </tr>\n",
       "    <tr>\n",
       "      <th>56</th>\n",
       "      <td>2022-08-01</td>\n",
       "      <td>0</td>\n",
       "    </tr>\n",
       "    <tr>\n",
       "      <th>57</th>\n",
       "      <td>2022-09-01</td>\n",
       "      <td>0</td>\n",
       "    </tr>\n",
       "    <tr>\n",
       "      <th>58</th>\n",
       "      <td>2022-10-01</td>\n",
       "      <td>0</td>\n",
       "    </tr>\n",
       "    <tr>\n",
       "      <th>59</th>\n",
       "      <td>2022-11-01</td>\n",
       "      <td>0</td>\n",
       "    </tr>\n",
       "    <tr>\n",
       "      <th>60</th>\n",
       "      <td>2022-12-01</td>\n",
       "      <td>0</td>\n",
       "    </tr>\n",
       "  </tbody>\n",
       "</table>\n",
       "<p>61 rows × 2 columns</p>\n",
       "</div>"
      ],
      "text/plain": [
       "   START_DATE  BAD_2\n",
       "0  2017-12-01    559\n",
       "1  2018-01-01    630\n",
       "2  2018-02-01    436\n",
       "3  2018-03-01    729\n",
       "4  2018-04-01    868\n",
       "..        ...    ...\n",
       "56 2022-08-01      0\n",
       "57 2022-09-01      0\n",
       "58 2022-10-01      0\n",
       "59 2022-11-01      0\n",
       "60 2022-12-01      0\n",
       "\n",
       "[61 rows x 2 columns]"
      ]
     },
     "execution_count": 48,
     "metadata": {},
     "output_type": "execute_result"
    }
   ],
   "source": [
    "credit_df.groupby(\"START_DATE\")[\"BAD_2\"].sum().reset_index()"
   ]
  }
 ],
 "metadata": {
  "kernelspec": {
   "display_name": ".venv",
   "language": "python",
   "name": "python3"
  },
  "language_info": {
   "codemirror_mode": {
    "name": "ipython",
    "version": 3
   },
   "file_extension": ".py",
   "mimetype": "text/x-python",
   "name": "python",
   "nbconvert_exporter": "python",
   "pygments_lexer": "ipython3",
   "version": "3.11.8"
  }
 },
 "nbformat": 4,
 "nbformat_minor": 5
}
