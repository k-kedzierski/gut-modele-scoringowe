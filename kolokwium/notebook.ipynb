{
 "cells": [
  {
   "cell_type": "markdown",
   "id": "410d9d02",
   "metadata": {},
   "source": [
    "# Modele scoringowe\n",
    "\n",
    "Kolokwium by kkedzierski"
   ]
  },
  {
   "cell_type": "code",
   "execution_count": 3,
   "id": "5a501028",
   "metadata": {},
   "outputs": [],
   "source": [
    "import pandas as pd\n",
    "import numpy as np\n",
    "from sklearn.metrics import roc_auc_score, auc\n",
    "import scorecardpy as sc"
   ]
  },
  {
   "cell_type": "markdown",
   "id": "501a20ed",
   "metadata": {},
   "source": [
    "## Notatki"
   ]
  },
  {
   "cell_type": "markdown",
   "id": "88de36a8",
   "metadata": {},
   "source": [
    "### Szansa (odds)\n",
    "\n",
    "Szansa - inny sposób wyrażania prawdopodobnieństwa (częstości)\n",
    "\n",
    "$O(B)$ - szansa złego:\n",
    "\n",
    "$$\n",
    "O(B) = P(B) / P(G) = \\frac{P(B)}{1 - P(B)}\n",
    "$$\n",
    "\n",
    "$O(G)$ - szansa dobrego:\n",
    "\n",
    "$$\n",
    "O(G) = \\frac{P(G)}{1 - P(G)}\n",
    "$$\n",
    "\n",
    "### Logarytm szansy\n",
    "\n",
    "$L(B)$ - logarytm szansy złego:\n",
    "\n",
    "$$\n",
    "L(B) = ln(O(B)) = ln(\\frac{P(B)}{P(G)})\n",
    "$$\n",
    "\n",
    "$L(G)$ - logarytm szansy dobrego:\n",
    "\n",
    "$$\n",
    "L(G) = ln(O(G)) = ln(\\frac{P(G)}{P(B)})\n",
    "$$"
   ]
  },
  {
   "cell_type": "markdown",
   "id": "398fcf9b",
   "metadata": {},
   "source": [
    "### Wzór Bayesa\n",
    "\n",
    "$$\n",
    "P(A \\mid B) = \\frac{P(B \\mid A) \\cdot P(A)}{P(B)}\n",
    "$$\n",
    "\n",
    "Jeszcze przydatny jest wzór na prawdopodobieństwo całkowite:\n",
    "\n",
    "$$\n",
    "P(B) = \\sum_{i=1}^n P(B \\mid A_i) \\cdot P(A_i)\n",
    "$$"
   ]
  },
  {
   "cell_type": "markdown",
   "id": "b95e17e2",
   "metadata": {},
   "source": [
    "#### Zadanie z wykładu - rzadka choroba\n",
    "\n",
    "Zalózmy, że mamy do czynienia z wzglednie rzadką chorobą. W populacji choruje na nią jedna na 1000 osób. Mamy tez niedoskonłay test, którego zadaniem jest wykryć tę chorobę. Jego czułość (prawdopodobieństwo, ze zwróci on wynik pozytywny - to znaczy wykryje chorobe - u osoby, która jest chora) to 0,95. Prawdopodobienstwo błędnego („fałszywego\") pozytywnego wyniku u zdrowej osoby wynosi 0,01.\n",
    "\n",
    "Z populacji losujemy osobe i przeprowadzamy omawiany test. Zwraca on wynik pozytywny. Jakie jest prawdopodobienstwo, ze ta osoba jest chora?"
   ]
  },
  {
   "cell_type": "code",
   "execution_count": 8,
   "id": "c669f98f",
   "metadata": {},
   "outputs": [
    {
     "data": {
      "text/plain": [
       "array([0.08683729, 0.91316271])"
      ]
     },
     "execution_count": 8,
     "metadata": {},
     "output_type": "execute_result"
    }
   ],
   "source": [
    "hypotheses = [\"chory\", \"nie chory\"]\n",
    "prior = np.array([0.001, 0.999])\n",
    "likelihood = np.array([0.95, 0.01])\n",
    "\n",
    "posterior = prior * likelihood / sum(prior * likelihood)\n",
    "\n",
    "posterior"
   ]
  },
  {
   "cell_type": "markdown",
   "id": "44ddd3db",
   "metadata": {},
   "source": [
    "...wynosi ok. 0.0868"
   ]
  },
  {
   "cell_type": "markdown",
   "id": "ce886ef1",
   "metadata": {},
   "source": [
    "#### Zadanie z wykładu - Alejandro i Beatriz\n",
    "\n",
    "Janusz dość często podróżuje do Alicante, gdzie mieszkają jego przyjaciele Alejandro i Beatriz. Jedno z nich zawsze odbiera Janusza z lotniska. Załóżmy, ze oboje równie często przyjeżdzają po Janusza. Mają oni dwa auta: czerwone i srebrne. Beatriz woli czerwone auto; korzysta z czerwonego auta w 60% przypadków. Alejandro używa srebrnego auta 4 razy częściej niż czerwonego. Alejandro częściej się spóźnia. Jeżeli Janusza odbiera Alejandro, prawdopodobieństwo, że będzie na czas, wynosi 0,4; Beatriz zdąży na czas z prawdopodobieństwem 0,8. Beatriz lubi używać klaksonu. Jeżeli zobaczy Janusza, zatrąbi w ośmiu przypadkach na 10. Alejandro tez czasem używa klaksonu - prawdopodobieństwo, ze zatrąbi, widząc Janusza, wynosi 0,2. Janusz właśnie wyszedł z hali przylotów i widzi, ze czeka już na niego srebrne auto, a jego kierowca daje mu sygnał klaksonem. Jakie jest prawdopodobieństwo, ze to Beatriz? Załóżmy, ze używanie klaksonu, kolor auta i przybycie na czas bądź spóznienie się są niezależne od siebie"
   ]
  },
  {
   "cell_type": "markdown",
   "id": "00de516f",
   "metadata": {},
   "source": [
    "#### Rozwiązanie po kolei"
   ]
  },
  {
   "cell_type": "code",
   "execution_count": null,
   "id": "b755918d",
   "metadata": {},
   "outputs": [
    {
     "data": {
      "text/plain": [
       "array([0.66666667, 0.33333333])"
      ]
     },
     "execution_count": 14,
     "metadata": {},
     "output_type": "execute_result"
    }
   ],
   "source": [
    "# Dane: Samochód o kolorze srebrnym\n",
    "hypotheses = [\"Alejandro\", \"Beatriz\"]\n",
    "\n",
    "prior = np.array(\n",
    "    [0.5, 0.5]\n",
    ")  # Prawdopodobieństwo, że przyjedzie Alejandro i że przyjedzie Beatriz\n",
    "likelihood = np.array(\n",
    "    [0.8, 0.4]\n",
    ")  # Prawdopodobieństwo wyboru koloru srebrnego przez Alejandro i Beatriz\n",
    "\n",
    "posterior = prior * likelihood / sum(prior * likelihood)\n",
    "posterior\n",
    "# Posterior: Prawdopodobieśtwo, że przyjechał srebrny samochód pod warunkiem, że przyjechał Alejandro lub Beatriz"
   ]
  },
  {
   "cell_type": "code",
   "execution_count": null,
   "id": "4431e9d8",
   "metadata": {},
   "outputs": [
    {
     "data": {
      "text/plain": [
       "array([0.5, 0.5])"
      ]
     },
     "execution_count": 15,
     "metadata": {},
     "output_type": "execute_result"
    }
   ],
   "source": [
    "# Dane: Kierowca jest na czas\n",
    "\n",
    "# Posterior staje się priorem\n",
    "prior = posterior\n",
    "likelihood = np.array(\n",
    "    [0.4, 0.8]\n",
    ")  # Prawdopodobieństwo, że Alejandro i Beatriz przyjadą na czas\n",
    "\n",
    "posterior = prior * likelihood / sum(prior * likelihood)\n",
    "posterior\n",
    "# Posterior: Prawdopodobieństwo, że przyjechał Alejandro lub Beatriz pod warunkiem, że przyjechali na czas i że samochód był srebrny"
   ]
  },
  {
   "cell_type": "code",
   "execution_count": null,
   "id": "033735c3",
   "metadata": {},
   "outputs": [
    {
     "data": {
      "text/plain": [
       "array([0.2, 0.8])"
      ]
     },
     "execution_count": 16,
     "metadata": {},
     "output_type": "execute_result"
    }
   ],
   "source": [
    "# Dane: Kierowca zatrąbił\n",
    "\n",
    "# Posterior staje się priorem\n",
    "prior = posterior\n",
    "likelihood = np.array([0.2, 0.8])  # Prawdopodobieństwo, że Alejandro i Beatriz zatrąbią\n",
    "posterior = prior * likelihood / sum(prior * likelihood)\n",
    "posterior\n",
    "# Posterior: Prawdopodobieństwo, że przyjechał Alejandro lub Beatriz pod warunkiem, że zatrąbili, że samochód był srebrny i że przyjechali na czas"
   ]
  },
  {
   "cell_type": "markdown",
   "id": "16c6b1e5",
   "metadata": {},
   "source": [
    "...prawdopodobieństwo, że to Beatriz wynosi 0.8."
   ]
  },
  {
   "cell_type": "markdown",
   "id": "4ef4b605",
   "metadata": {},
   "source": [
    "#### Rozwiązanie naraz"
   ]
  },
  {
   "cell_type": "code",
   "execution_count": null,
   "id": "b33ff1ef",
   "metadata": {},
   "outputs": [
    {
     "data": {
      "text/plain": [
       "array([0.2, 0.8])"
      ]
     },
     "execution_count": 17,
     "metadata": {},
     "output_type": "execute_result"
    }
   ],
   "source": [
    "hypotheses = [\"Alejandro\", \"Beatriz\"]\n",
    "prior = np.array([0.5, 0.5])\n",
    "l_silver = np.array(\n",
    "    [0.8, 0.4]\n",
    ")  # Prawdopodobieństwo wyboru koloru srebrnego przez Alejandro i Beatriz\n",
    "l_time = np.array(\n",
    "    [0.4, 0.8]\n",
    ")  # Prawdopodobieństwo, że Alejandro i Beatriz przyjadą na czas\n",
    "l_horn = np.array([0.2, 0.8])  # Prawdopodobieństwo, że Alejandro i Beatriz zatrąbią\n",
    "\n",
    "posterior = prior * l_silver * l_time * l_horn / sum(prior * l_silver * l_time * l_horn)\n",
    "\n",
    "posterior\n"
   ]
  },
  {
   "cell_type": "markdown",
   "id": "e35fd063",
   "metadata": {},
   "source": [
    "#### Rozwiązanie \"na kartce\"\n",
    "\n",
    "#### Oznaczenia i dane \n",
    "\n",
    "$$\n",
    "\\begin{aligned}\n",
    "B &: \\text{Beatriz przyjeżdża} & P(B)=\\tfrac12 \\\\[4pt]\n",
    "A &: \\text{Alejandro przyjeżdża} & P(A)=\\tfrac12\n",
    "\\end{aligned}\n",
    "$$\n",
    "\n",
    "| Zmienna | Znaczenie | Beatriz | Alejandro |\n",
    "|---------|-----------|---------|-----------|\n",
    "| $S$ | auto jest **srebrne** | $P(S\\mid B)=0{,}4$ | $P(S\\mid A)=0{,}8$ |\n",
    "| $H$ | kierowca używa **klaksonu** | $P(H\\mid B)=0{,}8$ | $P(H\\mid A)=0{,}2$ |\n",
    "| $T$ | kierowca jest **na czas** | $P(T\\mid B)=0{,}8$ | $P(T\\mid A)=0{,}4$ |\n",
    "\n",
    "Dla każdego kierowcy zdarzenia $S, H, T$ są **wzajemnie niezależne**.\n",
    "\n",
    "#### Prawdopodobieństwo jednoczesnego wystąpienia $S \\cap H \\cap T$\n",
    "\n",
    "$$\n",
    "\\begin{aligned}\n",
    "P(S \\cap H \\cap T \\mid B) &= P(S\\mid B)\\,P(H\\mid B)\\,P(T\\mid B) \\\\\n",
    "                          &= 0{,}4 \\times 0{,}8 \\times 0{,}8 \\\\\n",
    "                          &= 0{,}256, \\\\[8pt]\n",
    "P(S \\cap H \\cap T \\mid A) &= P(S\\mid A)\\,P(H\\mid A)\\,P(T\\mid A) \\\\\n",
    "                          &= 0{,}8 \\times 0{,}2 \\times 0{,}4 \\\\\n",
    "                          &= 0{,}064.\n",
    "\\end{aligned}\n",
    "$$\n",
    "\n",
    "#### Zastosowanie wzoru Bayesa\n",
    "\n",
    "$$\n",
    "\\begin{aligned}\n",
    "P(B \\mid S, H, T)\n",
    "&= \\frac{P(S, H, T \\mid B)\\,P(B)}\n",
    "        {P(S, H, T \\mid B)\\,P(B) + P(S, H, T \\mid A)\\,P(A)} \\\\[10pt]\n",
    "&= \\frac{0{,}256 \\times 0{,}5}\n",
    "        {0{,}256 \\times 0{,}5 + 0{,}064 \\times 0{,}5} \\\\[10pt]\n",
    "&= \\frac{0{,}128}{0{,}128 + 0{,}032} \\\\[4pt]\n",
    "&= \\frac{0{,}128}{0{,}160} \\\\[4pt]\n",
    "&= 0{,}80.\n",
    "\\end{aligned}\n",
    "$$\n",
    "\n",
    "### Odpowiedź  \n",
    "\n",
    "$$\n",
    "{P(B \\mid \\text{srebrne auto},\\,\\text{klakson},\\,\\text{na czas}) = 0{,}80 = 80\\%}\n",
    "$$\n"
   ]
  },
  {
   "cell_type": "markdown",
   "id": "401d7db3",
   "metadata": {},
   "source": [
    "No i elegancko"
   ]
  },
  {
   "cell_type": "markdown",
   "id": "771d0e4d",
   "metadata": {},
   "source": [
    "### Tablica pomyłek\n",
    "\n",
    "| Klasa rzeczywista ↓ \\ Klasa predykowana → | Klasyfikacja pozytywna           | Klasyfikacja negatywna             |\n",
    "|--------------------------------------|----------------------------------|------------------------------------|\n",
    "| **Stan pozytywny**                   | **Prawdziwie dodatnia (TP)**     | **Fałszywie ujemna (FN)**          |\n",
    "| **Stan negatywny**                   | **Fałszywie dodatnia (FP)**      | **Prawdziwie ujemna (TN)**         |\n",
    "\n",
    "#### Ocena jakości modelu\n",
    "\n",
    "| Miara                        | Wzór                                      | Opis                                                |\n",
    "|------------------------------|-------------------------------------------|-----------------------------------------------------|\n",
    "| **Dokładność** (accuracy)    | $$ \\frac{TP + TN}{TP + TN + FP + FN} $$   | Udział poprawnych predykcji                        |\n",
    "| **Precyzja** (precision)     | $$ \\frac{TP}{TP + FP} $$                  | Udział trafień wśród pozytywnych predykcji         |\n",
    "| **Czułość** (recall)         | $$ \\frac{TP}{TP + FN} $$                  | Udział trafień wśród rzeczywistych pozytywnych     |\n",
    "| **Specyficzność**            | $$ \\frac{TN}{TN + FP} $$                  | Udział trafień wśród rzeczywistych negatywnych     |\n",
    "| **F1-score**                 | $$ \\frac{2 \\cdot TP}{2 \\cdot TP + FP + FN} $$ | Harmoniczna średnia precyzji i czułości        |"
   ]
  },
  {
   "cell_type": "markdown",
   "id": "d53696d3",
   "metadata": {},
   "source": [
    "## Zadania obliczeniowe"
   ]
  },
  {
   "cell_type": "markdown",
   "id": "c7d972b3",
   "metadata": {},
   "source": [
    "### Zadanie 1\n",
    "\n",
    "*Mamy dane:*\n",
    "\n",
    "`dane.csv` (`data/dane.csv`)\n",
    "\n",
    "*I następującą tabelę scoringową:*\n",
    "\n",
    "| Zmienna                                      | Kategoria   | Punkty |\n",
    "|---------------------------------------------|-------------|--------|\n",
    "| Liczba opóźnień w ostatnich 12 miesiącach    | 0           | 25     |\n",
    "|                                             | 1           | 12     |\n",
    "|                                             | 2+          | 0      |\n",
    "| Wykorzystanie limitu odnawialnego w %       | (0;16]      | 30     |\n",
    "|                                             | (16;28]     | 22     |\n",
    "|                                             | (28;40]     | 15     |\n",
    "|                                             | >40         | 0      |\n",
    "\n",
    "1. *Ile wynosi średnia ocena punktowa (dwie cyfry po przecinku)?*\n",
    "2. *Ile wynosi minimalna ocena punktowa?*\n",
    "3. *Ile wynosi maksymalna ocena punktowa?*\n",
    "4. *Ile wynosi mediana ocen punktowych?*\n",
    "5. *Ile wynosi AUC (trzy cyfry po przecinku)?*\n",
    "6. *Ile wynosi Gini (trzy cyfry po przecinku)?*"
   ]
  },
  {
   "cell_type": "markdown",
   "id": "a3b30a34",
   "metadata": {},
   "source": [
    "#### Rozwiązanie\n",
    "\n",
    "Ładowanie danych"
   ]
  },
  {
   "cell_type": "code",
   "execution_count": 41,
   "id": "fa3dbfce",
   "metadata": {},
   "outputs": [
    {
     "data": {
      "application/vnd.microsoft.datawrangler.viewer.v0+json": {
       "columns": [
        {
         "name": "index",
         "rawType": "int64",
         "type": "integer"
        },
        {
         "name": "liczba_opozn",
         "rawType": "int64",
         "type": "integer"
        },
        {
         "name": "wykorz_limit",
         "rawType": "float64",
         "type": "float"
        },
        {
         "name": "bad_flag",
         "rawType": "int64",
         "type": "integer"
        }
       ],
       "ref": "64ff78c8-a3fe-4d79-8e1c-91a8eb52de67",
       "rows": [
        [
         "0",
         "1",
         "0.3",
         "0"
        ],
        [
         "1",
         "2",
         "0.69",
         "1"
        ],
        [
         "2",
         "0",
         "0.66",
         "0"
        ],
        [
         "3",
         "0",
         "0.39",
         "0"
        ],
        [
         "4",
         "1",
         "0.49",
         "1"
        ]
       ],
       "shape": {
        "columns": 3,
        "rows": 5
       }
      },
      "text/html": [
       "<div>\n",
       "<style scoped>\n",
       "    .dataframe tbody tr th:only-of-type {\n",
       "        vertical-align: middle;\n",
       "    }\n",
       "\n",
       "    .dataframe tbody tr th {\n",
       "        vertical-align: top;\n",
       "    }\n",
       "\n",
       "    .dataframe thead th {\n",
       "        text-align: right;\n",
       "    }\n",
       "</style>\n",
       "<table border=\"1\" class=\"dataframe\">\n",
       "  <thead>\n",
       "    <tr style=\"text-align: right;\">\n",
       "      <th></th>\n",
       "      <th>liczba_opozn</th>\n",
       "      <th>wykorz_limit</th>\n",
       "      <th>bad_flag</th>\n",
       "    </tr>\n",
       "  </thead>\n",
       "  <tbody>\n",
       "    <tr>\n",
       "      <th>0</th>\n",
       "      <td>1</td>\n",
       "      <td>0.30</td>\n",
       "      <td>0</td>\n",
       "    </tr>\n",
       "    <tr>\n",
       "      <th>1</th>\n",
       "      <td>2</td>\n",
       "      <td>0.69</td>\n",
       "      <td>1</td>\n",
       "    </tr>\n",
       "    <tr>\n",
       "      <th>2</th>\n",
       "      <td>0</td>\n",
       "      <td>0.66</td>\n",
       "      <td>0</td>\n",
       "    </tr>\n",
       "    <tr>\n",
       "      <th>3</th>\n",
       "      <td>0</td>\n",
       "      <td>0.39</td>\n",
       "      <td>0</td>\n",
       "    </tr>\n",
       "    <tr>\n",
       "      <th>4</th>\n",
       "      <td>1</td>\n",
       "      <td>0.49</td>\n",
       "      <td>1</td>\n",
       "    </tr>\n",
       "  </tbody>\n",
       "</table>\n",
       "</div>"
      ],
      "text/plain": [
       "   liczba_opozn  wykorz_limit  bad_flag\n",
       "0             1          0.30         0\n",
       "1             2          0.69         1\n",
       "2             0          0.66         0\n",
       "3             0          0.39         0\n",
       "4             1          0.49         1"
      ]
     },
     "execution_count": 41,
     "metadata": {},
     "output_type": "execute_result"
    }
   ],
   "source": [
    "df = pd.read_csv(\"./data/dane-3.csv\", sep=\";\")\n",
    "\n",
    "# Convert 'wykorz_limit' from string to float\n",
    "df[\"wykorz_limit\"] = df[\"wykorz_limit\"].str.replace(\",\", \".\").astype(float)\n",
    "\n",
    "df.head()"
   ]
  },
  {
   "cell_type": "markdown",
   "id": "9dc401cb",
   "metadata": {},
   "source": [
    "Funkcja scoringowa"
   ]
  },
  {
   "cell_type": "code",
   "execution_count": 69,
   "id": "39ba612d",
   "metadata": {},
   "outputs": [],
   "source": [
    "def calculate_score(row: pd.Series) -> int:\n",
    "    # Base score\n",
    "    score: int = 0\n",
    "\n",
    "    # Score for `liczba_opozn` column\n",
    "    if row[\"liczba_opozn\"] == 0:\n",
    "        score += 28\n",
    "    elif row[\"liczba_opozn\"] == 1:\n",
    "        score += 15\n",
    "    elif row[\"liczba_opozn\"] >= 2:\n",
    "        score += 0\n",
    "\n",
    "    # Score for `wykorz_limit` colun\n",
    "    if 0.0 < row[\"wykorz_limit\"] <= 0.15:\n",
    "        score += 32\n",
    "    elif 0.15 < row[\"wykorz_limit\"] <= 0.26:\n",
    "        score += 25\n",
    "    elif 0.26 < row[\"wykorz_limit\"] <= 0.38:\n",
    "        score += 17\n",
    "    elif row[\"wykorz_limit\"] > 0.38:\n",
    "        score += 0\n",
    "\n",
    "    # Return calculated score\n",
    "    return score"
   ]
  },
  {
   "cell_type": "markdown",
   "id": "3d83ecd9",
   "metadata": {},
   "source": [
    "Aplikowanie scoringu"
   ]
  },
  {
   "cell_type": "code",
   "execution_count": 70,
   "id": "3d09167d",
   "metadata": {},
   "outputs": [
    {
     "data": {
      "application/vnd.microsoft.datawrangler.viewer.v0+json": {
       "columns": [
        {
         "name": "index",
         "rawType": "int64",
         "type": "integer"
        },
        {
         "name": "liczba_opozn",
         "rawType": "int64",
         "type": "integer"
        },
        {
         "name": "wykorz_limit",
         "rawType": "float64",
         "type": "float"
        },
        {
         "name": "bad_flag",
         "rawType": "int64",
         "type": "integer"
        },
        {
         "name": "score",
         "rawType": "int64",
         "type": "integer"
        }
       ],
       "ref": "2dccebb5-cc38-4bc3-8266-74336c51ad4a",
       "rows": [
        [
         "0",
         "1",
         "0.3",
         "0",
         "32"
        ],
        [
         "1",
         "2",
         "0.69",
         "1",
         "0"
        ],
        [
         "2",
         "0",
         "0.66",
         "0",
         "28"
        ],
        [
         "3",
         "0",
         "0.39",
         "0",
         "28"
        ],
        [
         "4",
         "1",
         "0.49",
         "1",
         "15"
        ]
       ],
       "shape": {
        "columns": 4,
        "rows": 5
       }
      },
      "text/html": [
       "<div>\n",
       "<style scoped>\n",
       "    .dataframe tbody tr th:only-of-type {\n",
       "        vertical-align: middle;\n",
       "    }\n",
       "\n",
       "    .dataframe tbody tr th {\n",
       "        vertical-align: top;\n",
       "    }\n",
       "\n",
       "    .dataframe thead th {\n",
       "        text-align: right;\n",
       "    }\n",
       "</style>\n",
       "<table border=\"1\" class=\"dataframe\">\n",
       "  <thead>\n",
       "    <tr style=\"text-align: right;\">\n",
       "      <th></th>\n",
       "      <th>liczba_opozn</th>\n",
       "      <th>wykorz_limit</th>\n",
       "      <th>bad_flag</th>\n",
       "      <th>score</th>\n",
       "    </tr>\n",
       "  </thead>\n",
       "  <tbody>\n",
       "    <tr>\n",
       "      <th>0</th>\n",
       "      <td>1</td>\n",
       "      <td>0.30</td>\n",
       "      <td>0</td>\n",
       "      <td>32</td>\n",
       "    </tr>\n",
       "    <tr>\n",
       "      <th>1</th>\n",
       "      <td>2</td>\n",
       "      <td>0.69</td>\n",
       "      <td>1</td>\n",
       "      <td>0</td>\n",
       "    </tr>\n",
       "    <tr>\n",
       "      <th>2</th>\n",
       "      <td>0</td>\n",
       "      <td>0.66</td>\n",
       "      <td>0</td>\n",
       "      <td>28</td>\n",
       "    </tr>\n",
       "    <tr>\n",
       "      <th>3</th>\n",
       "      <td>0</td>\n",
       "      <td>0.39</td>\n",
       "      <td>0</td>\n",
       "      <td>28</td>\n",
       "    </tr>\n",
       "    <tr>\n",
       "      <th>4</th>\n",
       "      <td>1</td>\n",
       "      <td>0.49</td>\n",
       "      <td>1</td>\n",
       "      <td>15</td>\n",
       "    </tr>\n",
       "  </tbody>\n",
       "</table>\n",
       "</div>"
      ],
      "text/plain": [
       "   liczba_opozn  wykorz_limit  bad_flag  score\n",
       "0             1          0.30         0     32\n",
       "1             2          0.69         1      0\n",
       "2             0          0.66         0     28\n",
       "3             0          0.39         0     28\n",
       "4             1          0.49         1     15"
      ]
     },
     "execution_count": 70,
     "metadata": {},
     "output_type": "execute_result"
    }
   ],
   "source": [
    "df[\"score\"] = df.apply(calculate_score, axis=1)\n",
    "\n",
    "df.head()"
   ]
  },
  {
   "cell_type": "markdown",
   "id": "80a7d425",
   "metadata": {},
   "source": [
    "1. *Ile wynosi średnia ocena punktowa (dwie cyfry po przecinku)?*"
   ]
  },
  {
   "cell_type": "code",
   "execution_count": 71,
   "id": "98a35403",
   "metadata": {},
   "outputs": [
    {
     "name": "stdout",
     "output_type": "stream",
     "text": [
      "38.7065\n"
     ]
    }
   ],
   "source": [
    "print(df[\"score\"].mean())"
   ]
  },
  {
   "cell_type": "markdown",
   "id": "2b1af75e",
   "metadata": {},
   "source": [
    "2. *Ile wynosi minimalna ocena punktowa?*"
   ]
  },
  {
   "cell_type": "code",
   "execution_count": 72,
   "id": "db965db3",
   "metadata": {},
   "outputs": [
    {
     "name": "stdout",
     "output_type": "stream",
     "text": [
      "0\n"
     ]
    }
   ],
   "source": [
    "print(df[\"score\"].min())"
   ]
  },
  {
   "cell_type": "markdown",
   "id": "4ebfd32b",
   "metadata": {},
   "source": [
    "3. *Ile wynosi maksymalna ocena punktowa?*"
   ]
  },
  {
   "cell_type": "code",
   "execution_count": 73,
   "id": "d19e077a",
   "metadata": {},
   "outputs": [
    {
     "name": "stdout",
     "output_type": "stream",
     "text": [
      "60\n"
     ]
    }
   ],
   "source": [
    "print(df[\"score\"].max())"
   ]
  },
  {
   "cell_type": "markdown",
   "id": "67e17005",
   "metadata": {},
   "source": [
    "4. *Ile wynosi mediana ocen punktowych?*"
   ]
  },
  {
   "cell_type": "code",
   "execution_count": 74,
   "id": "a142a3c0",
   "metadata": {},
   "outputs": [
    {
     "name": "stdout",
     "output_type": "stream",
     "text": [
      "45.0\n"
     ]
    }
   ],
   "source": [
    "print(df[\"score\"].median())"
   ]
  },
  {
   "cell_type": "markdown",
   "id": "0a914c60",
   "metadata": {},
   "source": [
    "5. *Ile wynosi AUC (trzy cyfry po przecinku)?*\n",
    "\n",
    "**Uwaga**: `score` jest odwrócony, ponieważ w problemie scoringowym zachodzi odwrotna zależność między uzyskanym `score` a prawdopodobieństwem przynależności do `bad_flag`"
   ]
  },
  {
   "cell_type": "code",
   "execution_count": 75,
   "id": "d9a6e476",
   "metadata": {},
   "outputs": [
    {
     "name": "stdout",
     "output_type": "stream",
     "text": [
      "0.7515919171387524\n"
     ]
    }
   ],
   "source": [
    "# Invert the score to a negative value for proper scoring problem ROC AUC calculation\n",
    "auc_ = roc_auc_score(df[\"bad_flag\"], -df[\"score\"])\n",
    "\n",
    "print(auc_)"
   ]
  },
  {
   "cell_type": "markdown",
   "id": "d7e5571a",
   "metadata": {},
   "source": [
    "6. *Ile wynosi Gini (trzy cyfry po przecinku)?*"
   ]
  },
  {
   "cell_type": "code",
   "execution_count": 76,
   "id": "227d191b",
   "metadata": {},
   "outputs": [
    {
     "name": "stdout",
     "output_type": "stream",
     "text": [
      "0.5031838342775048\n"
     ]
    }
   ],
   "source": [
    "gini = 2 * auc_ - 1\n",
    "\n",
    "print(gini)"
   ]
  },
  {
   "cell_type": "code",
   "execution_count": 77,
   "id": "6bc7a3ba",
   "metadata": {},
   "outputs": [
    {
     "data": {
      "application/vnd.microsoft.datawrangler.viewer.v0+json": {
       "columns": [
        {
         "name": "index",
         "rawType": "int64",
         "type": "integer"
        },
        {
         "name": "liczba_opozn",
         "rawType": "int64",
         "type": "integer"
        },
        {
         "name": "wykorz_limit",
         "rawType": "object",
         "type": "string"
        },
        {
         "name": "bad_flag",
         "rawType": "int64",
         "type": "integer"
        },
        {
         "name": "points1",
         "rawType": "int64",
         "type": "integer"
        },
        {
         "name": "points2",
         "rawType": "int64",
         "type": "integer"
        },
        {
         "name": "score",
         "rawType": "int64",
         "type": "integer"
        }
       ],
       "ref": "48e4293b-a8a4-4df4-ae1e-6fafeead85ff",
       "rows": [
        [
         "0",
         "1",
         "0,3",
         "0",
         "15",
         "17",
         "32"
        ],
        [
         "1",
         "2",
         "0,69",
         "1",
         "0",
         "0",
         "0"
        ],
        [
         "2",
         "0",
         "0,66",
         "0",
         "28",
         "0",
         "28"
        ],
        [
         "3",
         "0",
         "0,39",
         "0",
         "28",
         "0",
         "28"
        ],
        [
         "4",
         "1",
         "0,49",
         "1",
         "15",
         "0",
         "15"
        ]
       ],
       "shape": {
        "columns": 6,
        "rows": 5
       }
      },
      "text/html": [
       "<div>\n",
       "<style scoped>\n",
       "    .dataframe tbody tr th:only-of-type {\n",
       "        vertical-align: middle;\n",
       "    }\n",
       "\n",
       "    .dataframe tbody tr th {\n",
       "        vertical-align: top;\n",
       "    }\n",
       "\n",
       "    .dataframe thead th {\n",
       "        text-align: right;\n",
       "    }\n",
       "</style>\n",
       "<table border=\"1\" class=\"dataframe\">\n",
       "  <thead>\n",
       "    <tr style=\"text-align: right;\">\n",
       "      <th></th>\n",
       "      <th>liczba_opozn</th>\n",
       "      <th>wykorz_limit</th>\n",
       "      <th>bad_flag</th>\n",
       "      <th>points1</th>\n",
       "      <th>points2</th>\n",
       "      <th>score</th>\n",
       "    </tr>\n",
       "  </thead>\n",
       "  <tbody>\n",
       "    <tr>\n",
       "      <th>0</th>\n",
       "      <td>1</td>\n",
       "      <td>0,3</td>\n",
       "      <td>0</td>\n",
       "      <td>15</td>\n",
       "      <td>17</td>\n",
       "      <td>32</td>\n",
       "    </tr>\n",
       "    <tr>\n",
       "      <th>1</th>\n",
       "      <td>2</td>\n",
       "      <td>0,69</td>\n",
       "      <td>1</td>\n",
       "      <td>0</td>\n",
       "      <td>0</td>\n",
       "      <td>0</td>\n",
       "    </tr>\n",
       "    <tr>\n",
       "      <th>2</th>\n",
       "      <td>0</td>\n",
       "      <td>0,66</td>\n",
       "      <td>0</td>\n",
       "      <td>28</td>\n",
       "      <td>0</td>\n",
       "      <td>28</td>\n",
       "    </tr>\n",
       "    <tr>\n",
       "      <th>3</th>\n",
       "      <td>0</td>\n",
       "      <td>0,39</td>\n",
       "      <td>0</td>\n",
       "      <td>28</td>\n",
       "      <td>0</td>\n",
       "      <td>28</td>\n",
       "    </tr>\n",
       "    <tr>\n",
       "      <th>4</th>\n",
       "      <td>1</td>\n",
       "      <td>0,49</td>\n",
       "      <td>1</td>\n",
       "      <td>15</td>\n",
       "      <td>0</td>\n",
       "      <td>15</td>\n",
       "    </tr>\n",
       "  </tbody>\n",
       "</table>\n",
       "</div>"
      ],
      "text/plain": [
       "   liczba_opozn wykorz_limit  bad_flag  points1  points2  score\n",
       "0             1          0,3         0       15       17     32\n",
       "1             2         0,69         1        0        0      0\n",
       "2             0         0,66         0       28        0     28\n",
       "3             0         0,39         0       28        0     28\n",
       "4             1         0,49         1       15        0     15"
      ]
     },
     "execution_count": 77,
     "metadata": {},
     "output_type": "execute_result"
    }
   ],
   "source": [
    "df2 = pd.read_csv(\"./data/dane-3-rozwiazanie.csv\", sep=\";\")\n",
    "\n",
    "df2.head()"
   ]
  },
  {
   "cell_type": "code",
   "execution_count": 78,
   "id": "d878bbe1",
   "metadata": {},
   "outputs": [
    {
     "name": "stdout",
     "output_type": "stream",
     "text": [
      "Mismatching rows (score column wise):\n"
     ]
    }
   ],
   "source": [
    "# Identify rows where the 'score' column differs between df and df2\n",
    "mismatch_mask = df[\"score\"] != df2[\"score\"]\n",
    "\n",
    "if mismatch_mask.any():\n",
    "    # Select the mismatching rows from df\n",
    "    df_mismatched = df.loc[mismatch_mask, [\"liczba_opozn\", \"wykorz_limit\", \"score\"]]\n",
    "\n",
    "    # Select the mismatching rows from df2, including 'points1' and 'points2' for context\n",
    "    df2_mismatched = df2.loc[\n",
    "        mismatch_mask, [\"liczba_opozn\", \"wykorz_limit\", \"points1\", \"points2\", \"score\"]\n",
    "    ]\n",
    "\n",
    "    # Concatenate the selected columns from both dataframes side-by-side for comparison\n",
    "    # Add suffixes to column names to indicate their original dataframe\n",
    "    comparison_df = pd.concat(\n",
    "        [df_mismatched.add_suffix(\"_df\"), df2_mismatched.add_suffix(\"_df2\")], axis=1\n",
    "    )\n",
    "\n",
    "    print(\"Mismatching rows (score column wise):\")\n",
    "else:\n",
    "    print(\"No mismatching scores found between df and df2.\")\n"
   ]
  },
  {
   "cell_type": "code",
   "execution_count": 79,
   "id": "3bc72152",
   "metadata": {},
   "outputs": [
    {
     "data": {
      "application/vnd.microsoft.datawrangler.viewer.v0+json": {
       "columns": [
        {
         "name": "index",
         "rawType": "int64",
         "type": "integer"
        },
        {
         "name": "liczba_opozn_df",
         "rawType": "int64",
         "type": "integer"
        },
        {
         "name": "wykorz_limit_df",
         "rawType": "float64",
         "type": "float"
        },
        {
         "name": "score_df",
         "rawType": "int64",
         "type": "integer"
        },
        {
         "name": "liczba_opozn_df2",
         "rawType": "int64",
         "type": "integer"
        },
        {
         "name": "wykorz_limit_df2",
         "rawType": "object",
         "type": "string"
        },
        {
         "name": "points1_df2",
         "rawType": "int64",
         "type": "integer"
        },
        {
         "name": "points2_df2",
         "rawType": "int64",
         "type": "integer"
        },
        {
         "name": "score_df2",
         "rawType": "int64",
         "type": "integer"
        }
       ],
       "ref": "eb5b68d0-6252-45e4-b0d4-de8a4c2b45ba",
       "rows": [
        [
         "194",
         "0",
         "0.0",
         "28",
         "0",
         "0",
         "28",
         "32",
         "60"
        ],
        [
         "581",
         "0",
         "0.0",
         "28",
         "0",
         "0",
         "28",
         "32",
         "60"
        ],
        [
         "659",
         "0",
         "0.0",
         "28",
         "0",
         "0",
         "28",
         "32",
         "60"
        ],
        [
         "1006",
         "1",
         "0.0",
         "15",
         "1",
         "0",
         "15",
         "32",
         "47"
        ],
        [
         "1561",
         "0",
         "0.0",
         "28",
         "0",
         "0",
         "28",
         "32",
         "60"
        ],
        [
         "1659",
         "0",
         "0.0",
         "28",
         "0",
         "0",
         "28",
         "32",
         "60"
        ],
        [
         "1756",
         "0",
         "0.0",
         "28",
         "0",
         "0",
         "28",
         "32",
         "60"
        ],
        [
         "1953",
         "0",
         "0.0",
         "28",
         "0",
         "0",
         "28",
         "32",
         "60"
        ]
       ],
       "shape": {
        "columns": 8,
        "rows": 8
       }
      },
      "text/html": [
       "<div>\n",
       "<style scoped>\n",
       "    .dataframe tbody tr th:only-of-type {\n",
       "        vertical-align: middle;\n",
       "    }\n",
       "\n",
       "    .dataframe tbody tr th {\n",
       "        vertical-align: top;\n",
       "    }\n",
       "\n",
       "    .dataframe thead th {\n",
       "        text-align: right;\n",
       "    }\n",
       "</style>\n",
       "<table border=\"1\" class=\"dataframe\">\n",
       "  <thead>\n",
       "    <tr style=\"text-align: right;\">\n",
       "      <th></th>\n",
       "      <th>liczba_opozn_df</th>\n",
       "      <th>wykorz_limit_df</th>\n",
       "      <th>score_df</th>\n",
       "      <th>liczba_opozn_df2</th>\n",
       "      <th>wykorz_limit_df2</th>\n",
       "      <th>points1_df2</th>\n",
       "      <th>points2_df2</th>\n",
       "      <th>score_df2</th>\n",
       "    </tr>\n",
       "  </thead>\n",
       "  <tbody>\n",
       "    <tr>\n",
       "      <th>194</th>\n",
       "      <td>0</td>\n",
       "      <td>0.0</td>\n",
       "      <td>28</td>\n",
       "      <td>0</td>\n",
       "      <td>0</td>\n",
       "      <td>28</td>\n",
       "      <td>32</td>\n",
       "      <td>60</td>\n",
       "    </tr>\n",
       "    <tr>\n",
       "      <th>581</th>\n",
       "      <td>0</td>\n",
       "      <td>0.0</td>\n",
       "      <td>28</td>\n",
       "      <td>0</td>\n",
       "      <td>0</td>\n",
       "      <td>28</td>\n",
       "      <td>32</td>\n",
       "      <td>60</td>\n",
       "    </tr>\n",
       "    <tr>\n",
       "      <th>659</th>\n",
       "      <td>0</td>\n",
       "      <td>0.0</td>\n",
       "      <td>28</td>\n",
       "      <td>0</td>\n",
       "      <td>0</td>\n",
       "      <td>28</td>\n",
       "      <td>32</td>\n",
       "      <td>60</td>\n",
       "    </tr>\n",
       "    <tr>\n",
       "      <th>1006</th>\n",
       "      <td>1</td>\n",
       "      <td>0.0</td>\n",
       "      <td>15</td>\n",
       "      <td>1</td>\n",
       "      <td>0</td>\n",
       "      <td>15</td>\n",
       "      <td>32</td>\n",
       "      <td>47</td>\n",
       "    </tr>\n",
       "    <tr>\n",
       "      <th>1561</th>\n",
       "      <td>0</td>\n",
       "      <td>0.0</td>\n",
       "      <td>28</td>\n",
       "      <td>0</td>\n",
       "      <td>0</td>\n",
       "      <td>28</td>\n",
       "      <td>32</td>\n",
       "      <td>60</td>\n",
       "    </tr>\n",
       "    <tr>\n",
       "      <th>1659</th>\n",
       "      <td>0</td>\n",
       "      <td>0.0</td>\n",
       "      <td>28</td>\n",
       "      <td>0</td>\n",
       "      <td>0</td>\n",
       "      <td>28</td>\n",
       "      <td>32</td>\n",
       "      <td>60</td>\n",
       "    </tr>\n",
       "    <tr>\n",
       "      <th>1756</th>\n",
       "      <td>0</td>\n",
       "      <td>0.0</td>\n",
       "      <td>28</td>\n",
       "      <td>0</td>\n",
       "      <td>0</td>\n",
       "      <td>28</td>\n",
       "      <td>32</td>\n",
       "      <td>60</td>\n",
       "    </tr>\n",
       "    <tr>\n",
       "      <th>1953</th>\n",
       "      <td>0</td>\n",
       "      <td>0.0</td>\n",
       "      <td>28</td>\n",
       "      <td>0</td>\n",
       "      <td>0</td>\n",
       "      <td>28</td>\n",
       "      <td>32</td>\n",
       "      <td>60</td>\n",
       "    </tr>\n",
       "  </tbody>\n",
       "</table>\n",
       "</div>"
      ],
      "text/plain": [
       "      liczba_opozn_df  wykorz_limit_df  score_df  liczba_opozn_df2  \\\n",
       "194                 0              0.0        28                 0   \n",
       "581                 0              0.0        28                 0   \n",
       "659                 0              0.0        28                 0   \n",
       "1006                1              0.0        15                 1   \n",
       "1561                0              0.0        28                 0   \n",
       "1659                0              0.0        28                 0   \n",
       "1756                0              0.0        28                 0   \n",
       "1953                0              0.0        28                 0   \n",
       "\n",
       "     wykorz_limit_df2  points1_df2  points2_df2  score_df2  \n",
       "194                 0           28           32         60  \n",
       "581                 0           28           32         60  \n",
       "659                 0           28           32         60  \n",
       "1006                0           15           32         47  \n",
       "1561                0           28           32         60  \n",
       "1659                0           28           32         60  \n",
       "1756                0           28           32         60  \n",
       "1953                0           28           32         60  "
      ]
     },
     "execution_count": 79,
     "metadata": {},
     "output_type": "execute_result"
    }
   ],
   "source": [
    "comparison_df"
   ]
  },
  {
   "cell_type": "markdown",
   "id": "7e7a4a03",
   "metadata": {},
   "source": [
    "### Zadanie 2\n",
    "\n",
    "*Krzywa ROC wygląda następująco:*\n",
    "\n",
    "![](./static/wykresROC-1.png)\n",
    "\n",
    "*Współrzędne linii ROC:*\n",
    "\n",
    "```r\n",
    "x <- c(0, 0.16, 0.23, 0.47, 1)\n",
    "y <- c(0, 0.68, 0.83, 0.92, 1)\n",
    "```\n",
    "\n",
    "*Oblicz:*\n",
    "\n",
    "1. *AUC=*\n",
    "2. *Gini=*"
   ]
  },
  {
   "cell_type": "markdown",
   "id": "3be75505",
   "metadata": {},
   "source": [
    "#### Rozwiązanie\n",
    "\n",
    "Obliczanie AUC"
   ]
  },
  {
   "cell_type": "code",
   "execution_count": 40,
   "id": "36610305",
   "metadata": {},
   "outputs": [],
   "source": [
    "x = [0, 0.16, 0.23, 0.47, 1]\n",
    "y = [0, 0.68, 0.83, 0.92, 1]\n",
    "\n",
    "auc_ = auc(x, y)"
   ]
  },
  {
   "cell_type": "markdown",
   "id": "0e902921",
   "metadata": {},
   "source": [
    "1. *AUC=*"
   ]
  },
  {
   "cell_type": "code",
   "execution_count": 41,
   "id": "def181ee",
   "metadata": {},
   "outputs": [
    {
     "name": "stdout",
     "output_type": "stream",
     "text": [
      "0.82605\n"
     ]
    }
   ],
   "source": [
    "print(auc_)"
   ]
  },
  {
   "cell_type": "markdown",
   "id": "0ca7c828",
   "metadata": {},
   "source": [
    "2. *Gini=*"
   ]
  },
  {
   "cell_type": "code",
   "execution_count": 42,
   "id": "0e28f520",
   "metadata": {},
   "outputs": [
    {
     "name": "stdout",
     "output_type": "stream",
     "text": [
      "0.6520999999999999\n"
     ]
    }
   ],
   "source": [
    "gini = 2 * auc_ - 1\n",
    "\n",
    "print(gini)"
   ]
  },
  {
   "cell_type": "markdown",
   "id": "d46070ba",
   "metadata": {},
   "source": [
    "### Zadanie 3\n",
    "\n",
    "*Częstość złych (bad rate) wynosi 36%*\n",
    "\n",
    "*Uwaga! W odpowiedziach należy podawać przynajmniej 3 cyfry po przecinku.*\n",
    "\n",
    "1. *Szansa dobrego wynosi:*\n",
    "2. *Logarytm szansy dobrego wynosi:*\n",
    "3. *Logarytm szansy złego wynosi:*"
   ]
  },
  {
   "cell_type": "markdown",
   "id": "83b870ab",
   "metadata": {},
   "source": [
    "#### Rozwiązanie"
   ]
  },
  {
   "cell_type": "code",
   "execution_count": 49,
   "id": "35ce0862",
   "metadata": {},
   "outputs": [],
   "source": [
    "bad_rate = 0.36"
   ]
  },
  {
   "cell_type": "markdown",
   "id": "ce1d97a7",
   "metadata": {},
   "source": [
    "1. *Szansa dobrego wynosi:*"
   ]
  },
  {
   "cell_type": "code",
   "execution_count": 50,
   "id": "95bd036a",
   "metadata": {},
   "outputs": [
    {
     "name": "stdout",
     "output_type": "stream",
     "text": [
      "1.777777777777778\n"
     ]
    }
   ],
   "source": [
    "good_odds = (1 - bad_rate) / bad_rate\n",
    "\n",
    "print(good_odds)"
   ]
  },
  {
   "cell_type": "markdown",
   "id": "da528d53",
   "metadata": {},
   "source": [
    "2. *Logarytm szansy dobrego wynosi:*\n"
   ]
  },
  {
   "cell_type": "code",
   "execution_count": 53,
   "id": "34b4e077",
   "metadata": {},
   "outputs": [
    {
     "name": "stdout",
     "output_type": "stream",
     "text": [
      "0.5753641449035619\n"
     ]
    }
   ],
   "source": [
    "good_log_odds = np.log(good_odds)\n",
    "\n",
    "print(good_log_odds)"
   ]
  },
  {
   "cell_type": "markdown",
   "id": "fe77ebde",
   "metadata": {},
   "source": [
    "3. *Logarytm szansy złego wynosi:*"
   ]
  },
  {
   "cell_type": "code",
   "execution_count": 58,
   "id": "e103f623",
   "metadata": {},
   "outputs": [
    {
     "name": "stdout",
     "output_type": "stream",
     "text": [
      "-0.5753641449035618\n"
     ]
    }
   ],
   "source": [
    "# Solution 1\n",
    "bad_odds = bad_rate / (1 - bad_rate)\n",
    "\n",
    "bad_log_odds = np.log(bad_odds)\n",
    "\n",
    "print(bad_log_odds)"
   ]
  },
  {
   "cell_type": "code",
   "execution_count": 59,
   "id": "bbfdbb5e",
   "metadata": {},
   "outputs": [
    {
     "name": "stdout",
     "output_type": "stream",
     "text": [
      "-0.5753641449035619\n"
     ]
    }
   ],
   "source": [
    "# Solution 2\n",
    "bad_log_odds = -good_log_odds\n",
    "\n",
    "print(bad_log_odds)"
   ]
  },
  {
   "cell_type": "markdown",
   "id": "1d8cda3c",
   "metadata": {},
   "source": [
    "### Zadanie 4\n",
    "\n",
    "*Logarytm szansy dobrego wynosi 4.*\n",
    "\n",
    "*Uwaga! W odpowiedziach należy podawać przynajmniej 3 cyfry po przecinku.*\n",
    "\n",
    "1. *Prawdopodobieństwo złego wynosi:*\n",
    "2. *Szansa złego wynosi:*\n",
    "3. *Szansa dobrego wynosi:*"
   ]
  },
  {
   "cell_type": "markdown",
   "id": "144a963a",
   "metadata": {},
   "source": [
    "#### Rozwiązanie"
   ]
  },
  {
   "cell_type": "code",
   "execution_count": 83,
   "id": "3c0d57ef",
   "metadata": {},
   "outputs": [],
   "source": [
    "good_log_odds = 4"
   ]
  },
  {
   "cell_type": "markdown",
   "id": "3ec622a2",
   "metadata": {},
   "source": [
    "1. *Prawdopodobieństwo złego wynosi:*"
   ]
  },
  {
   "cell_type": "code",
   "execution_count": 84,
   "id": "00b11a97",
   "metadata": {},
   "outputs": [
    {
     "name": "stdout",
     "output_type": "stream",
     "text": [
      "0.01798620996209155\n"
     ]
    }
   ],
   "source": [
    "prob_good = np.exp(good_log_odds) / (1 + np.exp(good_log_odds))\n",
    "\n",
    "prob_bad = 1 - prob_good\n",
    "\n",
    "print(prob_bad)"
   ]
  },
  {
   "cell_type": "markdown",
   "id": "306768d3",
   "metadata": {},
   "source": [
    "2. *Szansa złego wynosi:*"
   ]
  },
  {
   "cell_type": "code",
   "execution_count": 85,
   "id": "1c45cc41",
   "metadata": {},
   "outputs": [
    {
     "name": "stdout",
     "output_type": "stream",
     "text": [
      "0.01831563888873417\n"
     ]
    }
   ],
   "source": [
    "bad_odds = prob_bad / prob_good\n",
    "\n",
    "print(bad_odds)"
   ]
  },
  {
   "cell_type": "markdown",
   "id": "cd52665a",
   "metadata": {},
   "source": [
    "3. *Szansa dobrego wynosi:*"
   ]
  },
  {
   "cell_type": "code",
   "execution_count": 86,
   "id": "3998830f",
   "metadata": {},
   "outputs": [
    {
     "name": "stdout",
     "output_type": "stream",
     "text": [
      "54.59815003314427\n"
     ]
    }
   ],
   "source": [
    "good_odds = prob_good / prob_bad\n",
    "\n",
    "print(good_odds)"
   ]
  },
  {
   "cell_type": "markdown",
   "id": "854f7b14",
   "metadata": {},
   "source": [
    "### Zadanie 5\n",
    "\n",
    "*Mamy dane:*\n",
    "\n",
    "`dane.csv` (`./data/dane-2.csv`)\n",
    "\n",
    "*W odpowiedziach należy podać przynajmniej trzy miejsca po przecinku.*\n",
    "\n",
    "1. *Ile wynosi IV zmiennej grupa_wiekowa?*\n",
    "2. *Ile wynosi IV zmiennej grupa_dochodowa?*"
   ]
  },
  {
   "cell_type": "markdown",
   "id": "ae35522a",
   "metadata": {},
   "source": [
    "#### Rozwiązanie"
   ]
  },
  {
   "cell_type": "code",
   "execution_count": 89,
   "id": "6f8e205a",
   "metadata": {},
   "outputs": [
    {
     "data": {
      "application/vnd.microsoft.datawrangler.viewer.v0+json": {
       "columns": [
        {
         "name": "index",
         "rawType": "int64",
         "type": "integer"
        },
        {
         "name": "grupa_wiekowa",
         "rawType": "object",
         "type": "string"
        },
        {
         "name": "grupa_dochodowa",
         "rawType": "object",
         "type": "string"
        },
        {
         "name": "bad",
         "rawType": "int64",
         "type": "integer"
        }
       ],
       "ref": "ab7b4c15-dc4b-4774-818b-9399bd4b025e",
       "rows": [
        [
         "0",
         "(51,67]",
         "[1000-2000)",
         "1"
        ],
        [
         "1",
         "(34,51]",
         "[2000-3000)",
         "0"
        ],
        [
         "2",
         "(51,67]",
         "[4000-5000)",
         "1"
        ],
        [
         "3",
         "(51,67]",
         "[4000-5000)",
         "0"
        ],
        [
         "4",
         "(34,51]",
         "[1000-2000)",
         "0"
        ]
       ],
       "shape": {
        "columns": 3,
        "rows": 5
       }
      },
      "text/html": [
       "<div>\n",
       "<style scoped>\n",
       "    .dataframe tbody tr th:only-of-type {\n",
       "        vertical-align: middle;\n",
       "    }\n",
       "\n",
       "    .dataframe tbody tr th {\n",
       "        vertical-align: top;\n",
       "    }\n",
       "\n",
       "    .dataframe thead th {\n",
       "        text-align: right;\n",
       "    }\n",
       "</style>\n",
       "<table border=\"1\" class=\"dataframe\">\n",
       "  <thead>\n",
       "    <tr style=\"text-align: right;\">\n",
       "      <th></th>\n",
       "      <th>grupa_wiekowa</th>\n",
       "      <th>grupa_dochodowa</th>\n",
       "      <th>bad</th>\n",
       "    </tr>\n",
       "  </thead>\n",
       "  <tbody>\n",
       "    <tr>\n",
       "      <th>0</th>\n",
       "      <td>(51,67]</td>\n",
       "      <td>[1000-2000)</td>\n",
       "      <td>1</td>\n",
       "    </tr>\n",
       "    <tr>\n",
       "      <th>1</th>\n",
       "      <td>(34,51]</td>\n",
       "      <td>[2000-3000)</td>\n",
       "      <td>0</td>\n",
       "    </tr>\n",
       "    <tr>\n",
       "      <th>2</th>\n",
       "      <td>(51,67]</td>\n",
       "      <td>[4000-5000)</td>\n",
       "      <td>1</td>\n",
       "    </tr>\n",
       "    <tr>\n",
       "      <th>3</th>\n",
       "      <td>(51,67]</td>\n",
       "      <td>[4000-5000)</td>\n",
       "      <td>0</td>\n",
       "    </tr>\n",
       "    <tr>\n",
       "      <th>4</th>\n",
       "      <td>(34,51]</td>\n",
       "      <td>[1000-2000)</td>\n",
       "      <td>0</td>\n",
       "    </tr>\n",
       "  </tbody>\n",
       "</table>\n",
       "</div>"
      ],
      "text/plain": [
       "  grupa_wiekowa grupa_dochodowa  bad\n",
       "0       (51,67]     [1000-2000)    1\n",
       "1       (34,51]     [2000-3000)    0\n",
       "2       (51,67]     [4000-5000)    1\n",
       "3       (51,67]     [4000-5000)    0\n",
       "4       (34,51]     [1000-2000)    0"
      ]
     },
     "execution_count": 89,
     "metadata": {},
     "output_type": "execute_result"
    }
   ],
   "source": [
    "df = pd.read_csv(\"./data/dane-2.csv\", sep=\";\")\n",
    "\n",
    "df.head()"
   ]
  },
  {
   "cell_type": "markdown",
   "id": "7bb69e34",
   "metadata": {},
   "source": [
    "1. *Ile wynosi IV zmiennej grupa_wiekowa?*\n",
    "2. *Ile wynosi IV zmiennej grupa_dochodowa?*"
   ]
  },
  {
   "cell_type": "code",
   "execution_count": 93,
   "id": "1d016b0f",
   "metadata": {},
   "outputs": [
    {
     "data": {
      "application/vnd.microsoft.datawrangler.viewer.v0+json": {
       "columns": [
        {
         "name": "index",
         "rawType": "int64",
         "type": "integer"
        },
        {
         "name": "variable",
         "rawType": "object",
         "type": "string"
        },
        {
         "name": "info_value",
         "rawType": "float64",
         "type": "float"
        }
       ],
       "ref": "5782cf91-a430-47b0-86ce-d82119bba00a",
       "rows": [
        [
         "0",
         "grupa_wiekowa",
         "0.21363307771553683"
        ],
        [
         "1",
         "grupa_dochodowa",
         "0.00951863080969403"
        ]
       ],
       "shape": {
        "columns": 2,
        "rows": 2
       }
      },
      "text/html": [
       "<div>\n",
       "<style scoped>\n",
       "    .dataframe tbody tr th:only-of-type {\n",
       "        vertical-align: middle;\n",
       "    }\n",
       "\n",
       "    .dataframe tbody tr th {\n",
       "        vertical-align: top;\n",
       "    }\n",
       "\n",
       "    .dataframe thead th {\n",
       "        text-align: right;\n",
       "    }\n",
       "</style>\n",
       "<table border=\"1\" class=\"dataframe\">\n",
       "  <thead>\n",
       "    <tr style=\"text-align: right;\">\n",
       "      <th></th>\n",
       "      <th>variable</th>\n",
       "      <th>info_value</th>\n",
       "    </tr>\n",
       "  </thead>\n",
       "  <tbody>\n",
       "    <tr>\n",
       "      <th>0</th>\n",
       "      <td>grupa_wiekowa</td>\n",
       "      <td>0.213633</td>\n",
       "    </tr>\n",
       "    <tr>\n",
       "      <th>1</th>\n",
       "      <td>grupa_dochodowa</td>\n",
       "      <td>0.009519</td>\n",
       "    </tr>\n",
       "  </tbody>\n",
       "</table>\n",
       "</div>"
      ],
      "text/plain": [
       "          variable  info_value\n",
       "0    grupa_wiekowa    0.213633\n",
       "1  grupa_dochodowa    0.009519"
      ]
     },
     "execution_count": 93,
     "metadata": {},
     "output_type": "execute_result"
    }
   ],
   "source": [
    "sc.iv(df, y=\"bad\")"
   ]
  },
  {
   "cell_type": "markdown",
   "id": "d8843752",
   "metadata": {},
   "source": [
    "### Zadanie 6\n",
    "\n",
    "*W pewnym południowoamerykańskim państwie jest 100 razy więcej rolników niż bibliotekarzy. 5% rolników to ludzie nieśmiali, zaś wśród bibliotekarzy udział osób nieśmiałych stanowi 76%*\n",
    "\n",
    "1. *Losujemy jedną osobę z listy zawierającej wszystkich rolników i bibliotekarzy. Jakie jest prawdopodobieństwo, że jest nieśmiała?*\n",
    "2. *Losujemy jedną osobę z listy zawierającej wszystkich rolników i bibliotekarzy. Stwierdzamy, że jest nieśmiała. Jakie jest prawdopodobieństwo, że jest bibliotekarzem?*"
   ]
  },
  {
   "cell_type": "markdown",
   "id": "aefe10bb",
   "metadata": {},
   "source": [
    "#### Rozwiązanie\n",
    "\n",
    "#### Oznaczenia  \n",
    "\n",
    "$$\n",
    "\\begin{aligned}\n",
    "F &: \\text{rolnik}, & P(F)=\\frac{100}{101} \\\\[4pt]\n",
    "B &: \\text{bibliotekarz}, & P(B)=\\frac{1}{101} \\\\[8pt]\n",
    "S &: \\text{osoba nieśmiała}, &\n",
    "\\begin{cases}\n",
    "P(S\\mid F)=0{,}05,\\\\[2pt]\n",
    "P(S\\mid B)=0{,}76\n",
    "\\end{cases}\n",
    "\\end{aligned}\n",
    "$$\n",
    "\n",
    "#### Prawdopodobieństwo, że losowo wybrana osoba jest nieśmiała\n",
    "\n",
    "Z całkowitego prawdopodobiweństwa:\n",
    "\n",
    "$$\n",
    "\\begin{aligned}\n",
    "P(S)\n",
    "&= P(S\\mid F)\\,P(F) + P(S\\mid B)\\,P(B) \\\\[6pt]\n",
    "&= 0{,}05\\cdot\\frac{100}{101} + 0{,}76\\cdot\\frac{1}{101} \\\\[6pt]\n",
    "&= \\frac{5}{101} + \\frac{0{,}76}{101} \\\\[2pt]\n",
    "&= \\frac{5{,}76}{101} \\approx 0{,}0570.\n",
    "\\end{aligned}\n",
    "$$\n",
    "\n",
    "#### 2. Prawdopodobieństwo, że nieśmiała osoba jest bibliotekarzem  \n",
    "\n",
    "Z Bayesa:\n",
    "\n",
    "$$\n",
    "\\begin{aligned}\n",
    "P(B \\mid S)\n",
    "&= \\frac{P(S\\mid B)\\,P(B)}{P(S)} \\\\[6pt]\n",
    "&= \\frac{0{,}76\\cdot\\frac{1}{101}}{\\frac{5{,}76}{101}} \\\\[6pt]\n",
    "&= \\frac{0{,}76}{5{,}76}\n",
    "= \\frac{76}{576}\n",
    "= \\frac{19}{144} \\approx 0{,}1319.\n",
    "\\end{aligned}\n",
    "$$\n",
    "\n",
    "\n",
    "1. *Losujemy jedną osobę z listy zawierającej wszystkich rolników i bibliotekarzy. Jakie jest prawdopodobieństwo, że jest nieśmiała?*"
   ]
  },
  {
   "cell_type": "code",
   "execution_count": null,
   "id": "a8cd9274",
   "metadata": {},
   "outputs": [
    {
     "name": "stdout",
     "output_type": "stream",
     "text": [
      "0.05702970297029703\n"
     ]
    }
   ],
   "source": [
    "p_n = 0.05 * (100 / 101) + 0.76 * (1 / 101)\n",
    "\n",
    "print(p_n)"
   ]
  },
  {
   "cell_type": "markdown",
   "id": "e9e1cea4",
   "metadata": {},
   "source": [
    "2. *Losujemy jedną osobę z listy zawierającej wszystkich rolników i bibliotekarzy. Stwierdzamy, że jest nieśmiała. Jakie jest prawdopodobieństwo, że jest bibliotekarzem?*"
   ]
  },
  {
   "cell_type": "code",
   "execution_count": null,
   "id": "c0b04b00",
   "metadata": {},
   "outputs": [
    {
     "data": {
      "text/plain": [
       "0.13194444444444445"
      ]
     },
     "execution_count": 96,
     "metadata": {},
     "output_type": "execute_result"
    }
   ],
   "source": [
    "0.76 * (1 / 101) / p_n"
   ]
  },
  {
   "cell_type": "markdown",
   "id": "4fb658a6",
   "metadata": {},
   "source": [
    "### Pozostałe\n",
    "\n",
    "Jakieś rzeczy"
   ]
  }
 ],
 "metadata": {
  "kernelspec": {
   "display_name": ".venv",
   "language": "python",
   "name": "python3"
  },
  "language_info": {
   "codemirror_mode": {
    "name": "ipython",
    "version": 3
   },
   "file_extension": ".py",
   "mimetype": "text/x-python",
   "name": "python",
   "nbconvert_exporter": "python",
   "pygments_lexer": "ipython3",
   "version": "3.11.8"
  }
 },
 "nbformat": 4,
 "nbformat_minor": 5
}
